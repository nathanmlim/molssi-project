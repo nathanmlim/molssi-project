{
 "cells": [
  {
   "cell_type": "code",
   "execution_count": 1,
   "metadata": {},
   "outputs": [
    {
     "name": "stdout",
     "output_type": "stream",
     "text": [
      "ImportError: Could not import oeommtools. SideChainMove class will be unavailable.\n"
     ]
    }
   ],
   "source": [
    "from simtk import unit\n",
    "from openmmtools import testsystems, cache\n",
    "from openmmtools.mcmc import GHMCMove, MCMCSampler, MCRotationMove, BaseIntegratorMove, IntegratorMoveError\n",
    "from openmmtools.states import ThermodynamicState, SamplerState, CompoundThermodynamicState\n",
    "from simtk.openmm import CompoundIntegrator\n",
    "from openmmtools import alchemy\n",
    "from simtk import unit\n",
    "from openmmtools.utils import RestorableOpenMMObject\n",
    "from openmmtools.integrators import *\n",
    "import numpy as np\n",
    "import copy, sys, time\n",
    "import logging\n",
    "from simtk import openmm\n",
    "import parmed\n",
    "from openmmtools.utils import SubhookedABCMeta, Timer, RestorableOpenMMObject\n",
    "from openmmtools import testsystems, alchemy\n",
    "import netCDF4 as nc\n",
    "from blues.integrators import AlchemicalExternalLangevinIntegrator\n",
    "logger = logging.getLogger(__name__)\n",
    "logger.setLevel(logging.DEBUG)\n",
    "np.random.RandomState(seed=3134)\n",
    "logging.basicConfig(format='%(asctime)s | %(levelname)s : %(message)s', level=logging.INFO, stream=sys.stdout)"
   ]
  },
  {
   "cell_type": "code",
   "execution_count": 2,
   "metadata": {},
   "outputs": [],
   "source": [
    "# Define parameters\n",
    "temperature = 300 * unit.kelvin\n",
    "collision_rate = 1 / unit.picoseconds\n",
    "timestep = 1.0 * unit.femtoseconds\n",
    "n_steps = 10"
   ]
  },
  {
   "cell_type": "code",
   "execution_count": 17,
   "metadata": {},
   "outputs": [],
   "source": [
    "# import testsystem\n",
    "from openmmtools import testsystems\n",
    "ala = testsystems.AlanineDipeptideExplicit()"
   ]
  },
  {
   "cell_type": "code",
   "execution_count": 32,
   "metadata": {},
   "outputs": [],
   "source": [
    "# create our alchemical state\n",
    "factory = alchemy.AbsoluteAlchemicalFactory(consistent_exceptions=False)\n",
    "alchemical_region = alchemy.AlchemicalRegion(alchemical_atoms=range(22),annihilate_sterics=True)\n",
    "alchemical_atoms = list(alchemical_region.alchemical_atoms)\n",
    "alanine_alchemical_system = factory.create_alchemical_system(\n",
    "    reference_system=ala.system, alchemical_regions=alchemical_region)\n",
    "alchemical_state = alchemy.AlchemicalState.from_system(alanine_alchemical_system)"
   ]
  },
  {
   "cell_type": "code",
   "execution_count": 33,
   "metadata": {
    "scrolled": false
   },
   "outputs": [
    {
     "name": "stdout",
     "output_type": "stream",
     "text": [
      "1.0\n",
      "1.0\n"
     ]
    }
   ],
   "source": [
    "# Enslave lambda_sterics and lambda_electrostatics to a generic lambda variable.\n",
    "alchemical_state.set_alchemical_variable('lambda', 0)\n",
    "#Renamed in 0.17.0 to `set_function_variable` (openmm 7.3)\n",
    "print(alchemical_state.lambda_electrostatics)\n",
    "print(alchemical_state.lambda_sterics)"
   ]
  },
  {
   "cell_type": "code",
   "execution_count": 34,
   "metadata": {
    "scrolled": true
   },
   "outputs": [],
   "source": [
    "# Define our alchemical function and appy to state\n",
    "# The functions here turn off first electrostatic and the steric interactions\n",
    "# in sequence as lambda goes from 1.0 to 0.0.\n",
    "f_electrostatics = '2*(lambda-0.5)*step(lambda-0.5)'\n",
    "f_sterics = '2*lambda*step_hm(0.5-lambda) + step_hm(lambda-0.5)'\n",
    "alchemical_state.lambda_electrostatics = alchemy.AlchemicalFunction(f_electrostatics)\n",
    "alchemical_state.lambda_sterics = alchemy.AlchemicalFunction(f_sterics)"
   ]
  },
  {
   "cell_type": "code",
   "execution_count": 35,
   "metadata": {
    "scrolled": true
   },
   "outputs": [
    {
     "name": "stdout",
     "output_type": "stream",
     "text": [
      "0.5\n",
      "1.0\n"
     ]
    }
   ],
   "source": [
    "# Check that we can modify the lambda varible on the state\n",
    "alchemical_state.set_alchemical_variable('lambda', 0.75)\n",
    "#print(dir(alchemical_state))\n",
    "print(alchemical_state.lambda_electrostatics)\n",
    "print(alchemical_state.lambda_sterics)"
   ]
  },
  {
   "cell_type": "code",
   "execution_count": 36,
   "metadata": {},
   "outputs": [
    {
     "name": "stdout",
     "output_type": "stream",
     "text": [
      "1.0\n",
      "1.0\n"
     ]
    }
   ],
   "source": [
    "alchemical_state.set_alchemical_variable('lambda', 1.0)\n",
    "print(alchemical_state.lambda_electrostatics)\n",
    "print(alchemical_state.lambda_sterics)"
   ]
  },
  {
   "cell_type": "code",
   "execution_count": 37,
   "metadata": {},
   "outputs": [],
   "source": [
    "# Create our custom State objects\n",
    "# Need two different Thermodynamic State objects\n",
    "# Context cache will grab correct thermodynamic state\n",
    "# Keeping them in sync is in SamplerState.apply to context\n",
    "# Have apply return accumulated work\n",
    "\n",
    "thermo_state = ThermodynamicState(system=alanine_alchemical_system, temperature=300 * unit.kelvin)\n",
    "compound_state = CompoundThermodynamicState(thermo_state, composable_states=[alchemical_state])\n",
    "\n",
    "sampler_state = SamplerState(positions=ala.positions)"
   ]
  },
  {
   "cell_type": "code",
   "execution_count": 38,
   "metadata": {},
   "outputs": [
    {
     "name": "stdout",
     "output_type": "stream",
     "text": [
      "0.0\n",
      "1.0\n"
     ]
    }
   ],
   "source": [
    "compound_state.set_alchemical_variable('lambda', 0.5)\n",
    "print(compound_state.lambda_electrostatics)\n",
    "print(compound_state.lambda_sterics)"
   ]
  },
  {
   "cell_type": "code",
   "execution_count": 39,
   "metadata": {},
   "outputs": [
    {
     "name": "stdout",
     "output_type": "stream",
     "text": [
      "1.0\n",
      "1.0\n"
     ]
    }
   ],
   "source": [
    "compound_state.set_alchemical_variable('lambda', 1.0)\n",
    "print(compound_state.lambda_electrostatics)\n",
    "print(compound_state.lambda_sterics)"
   ]
  },
  {
   "cell_type": "markdown",
   "metadata": {},
   "source": [
    "# Below try simulation outside the classes"
   ]
  },
  {
   "cell_type": "code",
   "execution_count": 40,
   "metadata": {},
   "outputs": [
    {
     "name": "stdout",
     "output_type": "stream",
     "text": [
      "<openmmtools.integrators.AlchemicalNonequilibriumLangevinIntegrator; proxy of <Swig Object of type 'OpenMM::CustomIntegrator *' at 0x151b3fdc90> >\n"
     ]
    }
   ],
   "source": [
    "# # Set Integrator\n",
    "ncmc_integrator = AlchemicalNonequilibriumLangevinIntegrator(\n",
    "    splitting='H R V O V R H',\n",
    "    #splitting='O { V R H R V } O',\n",
    "    temperature=temperature,\n",
    "    collision_rate=collision_rate,\n",
    "    timestep=timestep,\n",
    "    nsteps_neq=n_steps,\n",
    "    measure_heat=True)\n",
    "\n",
    "# ncmc_integrator = AlchemicalExternalLangevinIntegrator(nstepsNC=n_steps,\n",
    "#             alchemical_functions={\n",
    "#                 'lambda_sterics': f_sterics,\n",
    "#                 'lambda_electrostatics': f_electrostatics\n",
    "#             },\n",
    "#             splitting=\"H V R O R V H\",\n",
    "#             temperature=temperature,\n",
    "#             dt=timestep,\n",
    "#             nprop=1,\n",
    "#             propLambda=0.3)\n",
    "print(ncmc_integrator)"
   ]
  },
  {
   "cell_type": "code",
   "execution_count": 41,
   "metadata": {},
   "outputs": [],
   "source": [
    "integrator = LangevinIntegrator(\n",
    "    temperature=temperature, timestep=timestep, collision_rate=collision_rate, measure_heat=True)\n",
    "\n",
    "compound_integrator = CompoundIntegrator()\n",
    "compound_integrator.addIntegrator(ncmc_integrator)\n",
    "compound_integrator.addIntegrator(integrator)\n",
    "compound_integrator.setCurrentIntegrator(0)"
   ]
  },
  {
   "cell_type": "code",
   "execution_count": 42,
   "metadata": {},
   "outputs": [
    {
     "data": {
      "text/plain": [
       "Quantity(value=array([[1.59081745, 1.19692554, 1.60887376],\n",
       "       [1.53772539, 1.28994663, 1.58864236],\n",
       "       [1.44705674, 1.29396154, 1.64900842],\n",
       "       ...,\n",
       "       [1.5180571 , 1.5578555 , 0.2357921 ],\n",
       "       [1.535579  , 1.4892329 , 0.1714013 ],\n",
       "       [1.4482728 , 1.610326  , 0.1965588 ]]), unit=nanometer)"
      ]
     },
     "execution_count": 42,
     "metadata": {},
     "output_type": "execute_result"
    }
   ],
   "source": [
    "sampler_state.positions"
   ]
  },
  {
   "cell_type": "code",
   "execution_count": 43,
   "metadata": {},
   "outputs": [],
   "source": [
    "# Grab the context and set state\n",
    "context_cache = cache.global_context_cache\n",
    "context, compound_integrator = context_cache.get_context(compound_state, compound_integrator)\n",
    "\n",
    "# If we reassign velocities, we can ignore the ones in sampler_state.\n",
    "sampler_state.apply_to_context(context)\n",
    "context.setVelocitiesToTemperature(compound_state.temperature)"
   ]
  },
  {
   "cell_type": "code",
   "execution_count": 46,
   "metadata": {},
   "outputs": [
    {
     "name": "stdout",
     "output_type": "stream",
     "text": [
      "-24666.198940691276 kJ/mol\n",
      "-24675.024737075903 kJ/mol\n"
     ]
    }
   ],
   "source": [
    "compound_integrator.step(1)\n",
    "context.setParameter('lambda_sterics', 0.2)\n",
    "print(context.getState(getEnergy=True).getPotentialEnergy())\n",
    "context.setParameter('lambda_sterics', 0.4)\n",
    "print(context.getState(getEnergy=True).getPotentialEnergy())"
   ]
  },
  {
   "cell_type": "code",
   "execution_count": 50,
   "metadata": {},
   "outputs": [
    {
     "name": "stdout",
     "output_type": "stream",
     "text": [
      "-24359.299490499747\n",
      "-24359.299490499747\n",
      "Step: 1.0 Work: 0.0 Lambda:  0.1 Lambda Step:  2.0 Sterics: 0.2 Elec: -0.0\n",
      "-24499.464565691276\n",
      "-24499.464565691276\n",
      "Step: 2.0 Work: 0.0 Lambda:  0.2 Lambda Step:  4.0 Sterics: 0.4 Elec: -0.0\n",
      "-24514.774737075903\n",
      "-24514.774737075903\n",
      "Step: 3.0 Work: 0.0 Lambda:  0.3 Lambda Step:  6.0 Sterics: 0.6 Elec: -0.0\n",
      "-24535.74123998717\n",
      "-24535.74123998717\n",
      "Step: 4.0 Work: 0.0 Lambda:  0.4 Lambda Step:  8.0 Sterics: 0.8 Elec: -0.0\n",
      "-24559.020324452606\n",
      "-24559.020324452606\n",
      "Step: 5.0 Work: 0.0 Lambda:  0.5 Lambda Step:  10.0 Sterics: 1.0 Elec: 0.0\n"
     ]
    }
   ],
   "source": [
    "# Do half of the steps \n",
    "rot_step = int(n_steps/2)\n",
    "\n",
    "\n",
    "for n in range(n_steps):\n",
    "    compound_integrator.step(1)\n",
    "    try:\n",
    "        curr_integrator = compound_integrator.getIntegrator(compound_integrator.getCurrentIntegrator())\n",
    "        step = curr_integrator.getGlobalVariableByName('step')\n",
    "        alch_lambda = curr_integrator.getGlobalVariableByName('lambda')\n",
    "        compound_state.set_alchemical_variable('lambda', alch_lambda)\n",
    "        \n",
    "        compound_state.apply_to_context(context)\n",
    "        lambda_sterics = context.getParameter('lambda_sterics')\n",
    "        Eold = curr_integrator.getGlobalVariableByName('Eold')\n",
    "        print(Eold)\n",
    "        Enew = curr_integrator.getGlobalVariableByName('Enew')\n",
    "        print(Enew)\n",
    "        \n",
    "        lambda_step = curr_integrator.getGlobalVariableByName('lambda_step')\n",
    "        protocol_work = curr_integrator.getGlobalVariableByName('protocol_work')\n",
    "        \n",
    "        print('Step:', step, 'Work:', protocol_work, 'Lambda: ', alch_lambda, 'Lambda Step: ', lambda_step, 'Sterics:', lambda_sterics, 'Elec:', compound_state.lambda_electrostatics)\n",
    "        if n == rot_step-1:\n",
    "            break\n",
    "    except Exception as e:\n",
    "        print(e)\n",
    "\n",
    "#print(dir(compound_state))\n"
   ]
  },
  {
   "cell_type": "code",
   "execution_count": 17,
   "metadata": {},
   "outputs": [],
   "source": [
    "# APPLY ROTATION HERE"
   ]
  },
  {
   "cell_type": "code",
   "execution_count": 47,
   "metadata": {},
   "outputs": [
    {
     "name": "stdout",
     "output_type": "stream",
     "text": [
      "Step: 8.0 Work: 0.0 Lambda:  0.8 Lambda Step:  16.0 Sterics: 1.0 Elec: 0.6000000000000001\n",
      "Step: 9.0 Work: 0.0 Lambda:  0.9 Lambda Step:  18.0 Sterics: 1.0 Elec: 0.8\n",
      "Step: 10.0 Work: 0.0 Lambda:  1.0 Lambda Step:  20.0 Sterics: 1.0 Elec: 1.0\n",
      "Step: 10.0 Work: 0.0 Lambda:  1.0 Lambda Step:  20.0 Sterics: 1.0 Elec: 1.0\n",
      "Step: 10.0 Work: 0.0 Lambda:  1.0 Lambda Step:  20.0 Sterics: 1.0 Elec: 1.0\n"
     ]
    }
   ],
   "source": [
    "# Run our integrator to the end\n",
    "rot_step = int(n_steps/2)\n",
    "for n in range(n_steps):\n",
    "    compound_integrator.step(1)\n",
    "    try:\n",
    "        curr_integrator = compound_integrator.getIntegrator(compound_integrator.getCurrentIntegrator())\n",
    "        alch_lambda = curr_integrator.getGlobalVariableByName('lambda')\n",
    "        compound_state.set_alchemical_variable('lambda', alch_lambda)\n",
    "        step = curr_integrator.getGlobalVariableByName('step')\n",
    "        lambda_step = curr_integrator.getGlobalVariableByName('lambda_step')\n",
    "        protocol_work = curr_integrator.getGlobalVariableByName('protocol_work')\n",
    "        print('Step:', step, 'Work:', protocol_work, 'Lambda: ', alch_lambda, 'Lambda Step: ', lambda_step, 'Sterics:', compound_state.lambda_sterics, 'Elec:', compound_state.lambda_electrostatics)\n",
    "        if n == rot_step-1:\n",
    "            break\n",
    "    except Exception as e:\n",
    "        print(e)"
   ]
  },
  {
   "cell_type": "code",
   "execution_count": 18,
   "metadata": {},
   "outputs": [],
   "source": [
    "# We get also velocities here even if we don't need them because we\n",
    "# will recycle this State to update the sampler state object. This\n",
    "# way we won't need a second call to Context.getState().\n",
    "context_state = context.getState(\n",
    "    getPositions=True, getVelocities=True, getEnergy=True, enforcePeriodicBox=compound_state.is_periodic)\n",
    "\n",
    "# This is an optimization around the fact that Collective Variables are not a part of the State,\n",
    "# but are a part of the Context. We do this call twice to minimize duplicating information fetched from\n",
    "# the State.\n",
    "# Update everything but the collective variables from the State object\n",
    "sampler_state.update_from_context(context_state, ignore_collective_variables=True)\n",
    "# Update only the collective variables from the Context\n",
    "sampler_state.update_from_context(\n",
    "    context, ignore_positions=True, ignore_velocities=True, ignore_collective_variables=False)"
   ]
  },
  {
   "cell_type": "code",
   "execution_count": 19,
   "metadata": {},
   "outputs": [
    {
     "data": {
      "text/plain": [
       "Quantity(value=array([[ 0.19481841,  0.10117554,  0.00121941],\n",
       "       [ 0.19860132,  0.21010968,  0.00142812],\n",
       "       [ 0.155908  ,  0.24750274,  0.09448746],\n",
       "       [ 0.14124119,  0.25556201, -0.07934875],\n",
       "       [ 0.34059298,  0.26081327, -0.00204767],\n",
       "       [ 0.43367076,  0.1849142 , -0.00169651],\n",
       "       [ 0.3634775 ,  0.39076504, -0.00318154],\n",
       "       [ 0.282085  ,  0.45041218,  0.00111682],\n",
       "       [ 0.48881745,  0.46392432,  0.00548376],\n",
       "       [ 0.53569311,  0.43532035,  0.09964047],\n",
       "       [ 0.56711704,  0.42145589, -0.11958296],\n",
       "       [ 0.50980324,  0.45038456, -0.20766963],\n",
       "       [ 0.66358221,  0.47113124, -0.12996715],\n",
       "       [ 0.59295863,  0.31569564, -0.12487275],\n",
       "       [ 0.47099653,  0.61516815,  0.00479275],\n",
       "       [ 0.35693577,  0.66410482, -0.00560002],\n",
       "       [ 0.58453548,  0.68693143, -0.00144625],\n",
       "       [ 0.66966236,  0.63268834, -0.0049247 ],\n",
       "       [ 0.58468324,  0.83298361, -0.00097397],\n",
       "       [ 0.48738745,  0.88021767,  0.01257102],\n",
       "       [ 0.64512676,  0.85409749,  0.08724045],\n",
       "       [ 0.63546747,  0.87625319, -0.0871697 ]]), unit=nanometer)"
      ]
     },
     "execution_count": 19,
     "metadata": {},
     "output_type": "execute_result"
    }
   ],
   "source": [
    "sampler_state.positions"
   ]
  },
  {
   "cell_type": "markdown",
   "metadata": {},
   "source": [
    "## Reset the steps here so that lambda still increments"
   ]
  },
  {
   "cell_type": "code",
   "execution_count": 48,
   "metadata": {},
   "outputs": [],
   "source": [
    "# Reset the variables\n",
    "curr_integrator.setGlobalVariableByName('step', 0)\n",
    "curr_integrator.setGlobalVariableByName('lambda_step', 0)\n",
    "curr_integrator.setGlobalVariableByName('protocol_work', 0)"
   ]
  },
  {
   "cell_type": "code",
   "execution_count": 49,
   "metadata": {},
   "outputs": [],
   "source": [
    "# Reconstruct a new context/integrator to repeat iteration\n",
    "context, compound_integrator1 = context_cache.get_context(compound_state)\n",
    "sampler_state.apply_to_context(context)\n",
    "context.setVelocitiesToTemperature(compound_state.temperature)"
   ]
  },
  {
   "cell_type": "code",
   "execution_count": 22,
   "metadata": {},
   "outputs": [
    {
     "name": "stdout",
     "output_type": "stream",
     "text": [
      "Step: 1.0 Work: 0.0 Lambda:  0.1 Lambda Step:  2.0 Sterics: 0.2 Elec: -0.0\n",
      "Step: 2.0 Work: 0.0 Lambda:  0.2 Lambda Step:  4.0 Sterics: 0.4 Elec: -0.0\n",
      "Step: 3.0 Work: 0.0 Lambda:  0.3 Lambda Step:  6.0 Sterics: 0.6 Elec: -0.0\n",
      "Step: 4.0 Work: 0.0 Lambda:  0.4 Lambda Step:  8.0 Sterics: 0.8 Elec: -0.0\n",
      "Step: 5.0 Work: 0.0 Lambda:  0.5 Lambda Step:  10.0 Sterics: 1.0 Elec: 0.0\n"
     ]
    }
   ],
   "source": [
    "# Run our integrator to the end\n",
    "rot_step = int(n_steps/2)\n",
    "for n in range(n_steps):\n",
    "    compound_integrator.step(1)\n",
    "    try:\n",
    "        curr_integrator = compound_integrator.getIntegrator(compound_integrator.getCurrentIntegrator())\n",
    "        alch_lambda = curr_integrator.getGlobalVariableByName('lambda')\n",
    "        compound_state.set_alchemical_variable('lambda', alch_lambda)\n",
    "        \n",
    "        step = curr_integrator.getGlobalVariableByName('step')\n",
    "        lambda_step = curr_integrator.getGlobalVariableByName('lambda_step')\n",
    "        protocol_work = curr_integrator.getGlobalVariableByName('protocol_work')\n",
    "        print('Step:', step, 'Work:', protocol_work, 'Lambda: ', alch_lambda, 'Lambda Step: ', lambda_step, 'Sterics:', compound_state.lambda_sterics, 'Elec:', compound_state.lambda_electrostatics)\n",
    "        if n == rot_step-1:\n",
    "            break\n",
    "    except Exception as e:\n",
    "        print(e)"
   ]
  },
  {
   "cell_type": "code",
   "execution_count": 23,
   "metadata": {},
   "outputs": [
    {
     "name": "stdout",
     "output_type": "stream",
     "text": [
      "Step: 6.0 Work: 0.0 Lambda:  0.6 Lambda Step:  12.0 Sterics: 1.0 Elec: 0.19999999999999996\n",
      "Step: 7.0 Work: 0.0 Lambda:  0.7 Lambda Step:  14.0 Sterics: 1.0 Elec: 0.3999999999999999\n",
      "Step: 8.0 Work: 0.0 Lambda:  0.8 Lambda Step:  16.0 Sterics: 1.0 Elec: 0.6000000000000001\n",
      "Step: 9.0 Work: 0.0 Lambda:  0.9 Lambda Step:  18.0 Sterics: 1.0 Elec: 0.8\n",
      "Step: 10.0 Work: 0.0 Lambda:  1.0 Lambda Step:  20.0 Sterics: 1.0 Elec: 1.0\n"
     ]
    }
   ],
   "source": [
    "# Run our integrator to the end\n",
    "rot_step = int(n_steps/2)\n",
    "for n in range(n_steps):\n",
    "    compound_integrator.step(1)\n",
    "    try:\n",
    "        curr_integrator = compound_integrator.getIntegrator(compound_integrator.getCurrentIntegrator())\n",
    "        alch_lambda = curr_integrator.getGlobalVariableByName('lambda')\n",
    "        compound_state.set_alchemical_variable('lambda', alch_lambda)\n",
    "\n",
    "        step = curr_integrator.getGlobalVariableByName('step')\n",
    "        lambda_step = curr_integrator.getGlobalVariableByName('lambda_step')\n",
    "        protocol_work = curr_integrator.getGlobalVariableByName('protocol_work')\n",
    "        print('Step:', step, 'Work:', protocol_work, 'Lambda: ', alch_lambda, 'Lambda Step: ', lambda_step, 'Sterics:', compound_state.lambda_sterics, 'Elec:', compound_state.lambda_electrostatics)\n",
    "        if n == rot_step-1:\n",
    "            break\n",
    "    except Exception as e:\n",
    "        print(e)"
   ]
  },
  {
   "cell_type": "markdown",
   "metadata": {},
   "source": [
    "# Below try it inside classes"
   ]
  },
  {
   "cell_type": "code",
   "execution_count": 24,
   "metadata": {},
   "outputs": [],
   "source": [
    "class NCMCMove(BaseIntegratorMove):\n",
    "\n",
    "    def __init__(self,\n",
    "                 timestep=1.0 * unit.femtosecond,\n",
    "                 collision_rate=10.0 / unit.picoseconds,\n",
    "                 n_steps=1000,\n",
    "                 temperature=300 * unit.kelvin,\n",
    "                 reassign_velocities=True,\n",
    "                 **kwargs):\n",
    "        super(NCMCMove, self).__init__(n_steps=n_steps, **kwargs)\n",
    "        self.timestep = timestep\n",
    "        self.temperature = temperature\n",
    "        self.collision_rate = collision_rate\n",
    "        self.n_accepted = 0  # Number of accepted steps.\n",
    "        self.n_proposed = 0  # Number of attempted steps.\n",
    "\n",
    "    @property\n",
    "    def fraction_accepted(self):\n",
    "        \"\"\"Ratio between accepted over attempted moves (read-only).\n",
    "\n",
    "        If the number of attempted steps is 0, this is numpy.NaN.\n",
    "\n",
    "        \"\"\"\n",
    "        if self.n_proposed == 0:\n",
    "            return np.NaN\n",
    "        # TODO drop the casting when stop Python2 support\n",
    "        return float(self.n_accepted) / self.n_proposed\n",
    "\n",
    "    @property\n",
    "    def statistics(self):\n",
    "        \"\"\"The acceptance statistics as a dictionary.\"\"\"\n",
    "        return dict(n_accepted=self.n_accepted, n_proposed=self.n_proposed)\n",
    "\n",
    "    @statistics.setter\n",
    "    def statistics(self, value):\n",
    "        self.n_accepted = value['n_accepted']\n",
    "        self.n_proposed = value['n_proposed']\n",
    "\n",
    "    def reset_statistics(self):\n",
    "        \"\"\"Reset the internal statistics of number of accepted and attempted moves.\"\"\"\n",
    "        self.n_accepted = 0\n",
    "        self.n_proposed = 0\n",
    "\n",
    "    def apply(self, thermodynamic_state, sampler_state, integrator_idx):\n",
    "        \"\"\"Propagate the state through the integrator.\n",
    "\n",
    "            This updates the SamplerState after the integration. It also logs\n",
    "            benchmarking information through the utils.Timer class.\n",
    "\n",
    "            Parameters\n",
    "            ----------\n",
    "            thermodynamic_state : openmmtools.states.ThermodynamicState\n",
    "               The thermodynamic state to use to propagate dynamics.\n",
    "            sampler_state : openmmtools.states.SamplerState\n",
    "               The sampler state to apply the move to. This is modified.\n",
    "\n",
    "            See Also\n",
    "            --------\n",
    "            openmmtools.utils.Timer\n",
    "\n",
    "            \"\"\"\n",
    "        move_name = self.__class__.__name__  # shortcut\n",
    "        timer = Timer()\n",
    "\n",
    "        # Check if we have to use the global cache.\n",
    "        if self.context_cache is None:\n",
    "            context_cache = cache.global_context_cache\n",
    "        else:\n",
    "            print('Found context cache')\n",
    "            context_cache = self.context_cache\n",
    "\n",
    "        # Create integrator.\n",
    "        integrator = self._get_integrator(thermodynamic_state)\n",
    "       \n",
    "\n",
    "        # Create context.\n",
    "        timer.start(\"{}: Context request\".format(move_name))\n",
    "        context, integrator = context_cache.get_context(thermodynamic_state, integrator)\n",
    "        timer.stop(\"{}: Context request\".format(move_name))\n",
    "        logger.debug(\"{}: Context obtained, platform is {}\".format(move_name, context.getPlatform().getName()))\n",
    "\n",
    "        #print('SamplerContext compat:', sampler_state.is_context_compatible(context))\n",
    "        self.integrator_idx = integrator_idx\n",
    "        integrator.setCurrentIntegrator(self.integrator_idx)\n",
    "        #integrator = integrator.getIntegrator(integrator_idx)\n",
    "        #RestorableOpenMMObject.restore_interface(integrator)\n",
    "        #integrator.pretty_print()\n",
    "        #print('Current Integrator:', integrator)\n",
    "\n",
    "        # Perform the integration.\n",
    "        for attempt_counter in range(self.n_restart_attempts + 1):\n",
    "\n",
    "            #If we reassign velocities, we can ignore the ones in sampler_state.\n",
    "            sampler_state.apply_to_context(context, ignore_velocities=self.reassign_velocities)\n",
    "            if self.reassign_velocities:\n",
    "                context.setVelocitiesToTemperature(thermodynamic_state.temperature)\n",
    "\n",
    "            # Subclasses may implement _before_integration().\n",
    "            self._before_integration(context, thermodynamic_state)\n",
    "\n",
    "            #specify nc integrator variables to report in verbose output\n",
    "            try:\n",
    "                # Run dynamics.\n",
    "                timer.start(\"{}: step({})\".format(move_name, self.n_steps))\n",
    "                #integrator.step(self.n_steps)\n",
    "                \n",
    "                ###NML:\n",
    "                for n in range(self.n_steps):\n",
    "                    integrator.step(1)\n",
    "                    try:\n",
    "                        curr_integrator = integrator.getIntegrator(integrator.getCurrentIntegrator())\n",
    "                        step = curr_integrator.getGlobalVariableByName('step')\n",
    "                        alch_lambda = curr_integrator.getGlobalVariableByName('lambda')\n",
    "                        thermodynamic_state.set_alchemical_variable('lambda', alch_lambda)\n",
    "\n",
    "                        lambda_step = curr_integrator.getGlobalVariableByName('lambda_step')\n",
    "                        protocol_work = curr_integrator.getGlobalVariableByName('protocol_work')\n",
    "\n",
    "                        print('Step:', step, 'Work:', protocol_work, 'Lambda: ', alch_lambda, 'Lambda Step: ', lambda_step, 'Sterics:', compound_state.lambda_sterics, 'Elec:', compound_state.lambda_electrostatics)\n",
    "                    except Exception as e:\n",
    "                        print(e)\n",
    "\n",
    "                \n",
    "                \n",
    "                \n",
    "            except Exception as e:\n",
    "                print(e)\n",
    "                # Catches particle positions becoming nan during integration.\n",
    "                restart = True\n",
    "            else:\n",
    "                timer.stop(\"{}: step({})\".format(move_name, self.n_steps))\n",
    "\n",
    "                # We get also velocities here even if we don't need them because we\n",
    "                # will recycle this State to update the sampler state object. This\n",
    "                # way we won't need a second call to Context.getState().\n",
    "                context_state = context.getState(\n",
    "                    getPositions=True,\n",
    "                    getVelocities=True,\n",
    "                    getEnergy=True,\n",
    "                    enforcePeriodicBox=thermodynamic_state.is_periodic)\n",
    "\n",
    "                # Check for NaNs in energies.\n",
    "                potential_energy = context_state.getPotentialEnergy()\n",
    "                print('potential_energy', potential_energy)\n",
    "                restart = np.isnan(potential_energy.value_in_unit(potential_energy.unit))\n",
    "\n",
    "            # Restart the move if we found NaNs.\n",
    "            if restart:\n",
    "                err_msg = ('Potential energy is NaN after {} attempts of integration '\n",
    "                           'with move {}'.format(attempt_counter, self.__class__.__name__))\n",
    "\n",
    "                # If we are on our last chance before crash, try to re-initialize context\n",
    "                if attempt_counter == self.n_restart_attempts - 1:\n",
    "                    logger.error(err_msg + ' Trying to reinitialize Context as a last-resort restart attempt...')\n",
    "                    context.reinitialize()\n",
    "                    sampler_state.apply_to_context(context)\n",
    "                    thermodynamic_state.apply_to_context(context)\n",
    "                # If we have hit the number of restart attempts, raise an exception.\n",
    "                elif attempt_counter == self.n_restart_attempts:\n",
    "                    # Restore the context to the state right before the integration.\n",
    "                    sampler_state.apply_to_context(context)\n",
    "                    logger.error(err_msg)\n",
    "                    raise IntegratorMoveError(err_msg, self, context)\n",
    "                else:\n",
    "                    logger.warning(err_msg + ' Attempting a restart...')\n",
    "            else:\n",
    "                break\n",
    "\n",
    "        # Subclasses can read here info from the context to update internal statistics.\n",
    "        self._after_integration(context, thermodynamic_state)\n",
    "\n",
    "        # Updated sampler state.\n",
    "        timer.start(\"{}: update sampler state\".format(move_name))\n",
    "        # This is an optimization around the fact that Collective Variables are not a part of the State,\n",
    "        # but are a part of the Context. We do this call twice to minimize duplicating information fetched from\n",
    "        # the State.\n",
    "        # Update everything but the collective variables from the State object\n",
    "        sampler_state.update_from_context(context_state, ignore_collective_variables=True)\n",
    "        # Update only the collective variables from the Context\n",
    "        sampler_state.update_from_context(\n",
    "            context, ignore_positions=True, ignore_velocities=True, ignore_collective_variables=False)\n",
    "        timer.stop(\"{}: update sampler state\".format(move_name))\n",
    "\n",
    "        #timer.report_timing()\n",
    "        return context\n",
    "\n",
    "    def __getstate__(self):\n",
    "        serialization = super(NCMCMove, self).__getstate__()\n",
    "        serialization['timestep'] = self.timestep\n",
    "        serialization['collision_rate'] = self.collision_rate\n",
    "        serialization.update(self.statistics)\n",
    "        return serialization\n",
    "\n",
    "    def __setstate__(self, serialization):\n",
    "        super(NCMCMove, self).__setstate__(serialization)\n",
    "        self.timestep = serialization['timestep']\n",
    "        self.collision_rate = serialization['collision_rate']\n",
    "        self.statistics = serialization\n",
    "\n",
    "    def _get_integrator(self, thermodynamic_state):\n",
    "        \"\"\"Implement BaseIntegratorMove._get_integrator().\"\"\"\n",
    "        # Store lastly generated integrator to collect statistics.\n",
    "        ncmc_integrator = AlchemicalNonequilibriumLangevinIntegrator(\n",
    "            splitting='H V R O R V H',\n",
    "            #splitting='O { V R H R V } O',\n",
    "            temperature=self.temperature,\n",
    "            collision_rate=self.collision_rate,\n",
    "            timestep=self.timestep,\n",
    "            nsteps_neq=self.n_steps,\n",
    "            measure_heat=True)\n",
    "\n",
    "        integrator = LangevinIntegrator(\n",
    "            temperature=self.temperature,\n",
    "            timestep=self.timestep,\n",
    "            collision_rate=self.collision_rate,\n",
    "            measure_heat=True)\n",
    "        \n",
    "        compound_integrator = openmm.CompoundIntegrator()\n",
    "        compound_integrator.addIntegrator(ncmc_integrator)\n",
    "        compound_integrator.addIntegrator(integrator)\n",
    "        return compound_integrator\n",
    "\n",
    "    def _after_integration(self, context, thermodynamic_state):\n",
    "        \"\"\"Implement BaseIntegratorMove._after_integration().\"\"\"\n",
    "        #Reset\n",
    "        integrator = context.getIntegrator()\n",
    "        curr_integrator = integrator.getIntegrator(integrator.getCurrentIntegrator())\n",
    "        curr_integrator.setGlobalVariableByName('step', 0)\n",
    "        curr_integrator.setGlobalVariableByName('lambda_step', 0)\n",
    "        curr_integrator.setGlobalVariableByName('protocol_work', 0)\n",
    "#         # Accumulate acceptance statistics.\n",
    "#         ncmc_global_variables = {\n",
    "#             integrator.getGlobalVariableName(index): index for index in range(integrator.getNumGlobalVariables())\n",
    "#         }\n",
    "#         print(ncmc_global_variables)\n",
    "#         n_accepted = integrator.getGlobalVariable(ncmc_global_variables['naccept'])\n",
    "#         n_proposed = integrator.getGlobalVariable(ncmc_global_variables['ntrials'])\n",
    "#         self.n_accepted += n_accepted\n",
    "#         self.n_proposed += n_proposed\n"
   ]
  },
  {
   "cell_type": "code",
   "execution_count": 25,
   "metadata": {},
   "outputs": [],
   "source": [
    "class NCMCSampler(object):\n",
    "\n",
    "\n",
    "    def __init__(self, thermodynamic_state=None, sampler_state=None, move=None, platform=None, ncfile=None, pdbfile=None, topology=None):\n",
    "        \"\"\"\n",
    "        Create an MCMC sampler.\n",
    "        Parameters\n",
    "        ----------\n",
    "        thermodynamic_state : ThermodynamicState\n",
    "            The thermodynamic state to simulate\n",
    "        sampler_state : SamplerState\n",
    "            The initial sampler state to simulate from.\n",
    "        platform : simtk.openmm.Platform, optional, default=None\n",
    "            If specified, this platform will be used\n",
    "        ncfile : netCDF4.Dataset, optional, default=None\n",
    "            NetCDF storage file.\n",
    "        \"\"\"\n",
    "        if thermodynamic_state is None:\n",
    "            raise Exception(\"'thermodynamic_state' must be specified\")\n",
    "        if sampler_state is None:\n",
    "            raise Exception(\"'sampler_state' must be specified\")\n",
    "\n",
    "        self.thermodynamic_state = thermodynamic_state\n",
    "        self.sampler_state = sampler_state\n",
    "        self.move = move\n",
    "        \n",
    "        # Initialize\n",
    "        self.iteration = 0\n",
    "        # For GHMC / Langevin integrator\n",
    "        self.collision_rate = 1.0 / unit.picoseconds\n",
    "        self.timestep = 2.0 * unit.femtoseconds\n",
    "        self.nsteps = 500  # number of steps per update\n",
    "        self.verbose = True\n",
    "        self.platform = platform\n",
    "\n",
    "        # For writing PDB files\n",
    "        self.pdbfile = pdbfile\n",
    "        self.topology = topology\n",
    "\n",
    "        self._timing = dict()\n",
    "        self._initializeNetCDF(ncfile)\n",
    "\n",
    "    def _initializeNetCDF(self, ncfile):\n",
    "        self.ncfile = nc.Dataset(ncfile, 'w', format='NETCDF3_64BIT')\n",
    "        if self.ncfile == None:\n",
    "            return\n",
    "\n",
    "        natoms = self.thermodynamic_state.system.getNumParticles()\n",
    "        self.ncfile.createDimension('iterations', None)\n",
    "        self.ncfile.createDimension('atoms', natoms)  # TODO: What do we do if dimension can change?\n",
    "        self.ncfile.createDimension('spatial', 3)\n",
    "\n",
    "        self.ncfile.createVariable(\n",
    "            'coordinates', 'f4', dimensions=('iterations', 'atoms', 'spatial'), zlib=True, chunksizes=(1, natoms, 3))\n",
    "        self.ncfile.createVariable(\n",
    "            'box_vectors', 'f4', dimensions=('iterations', 'spatial', 'spatial'), zlib=True, chunksizes=(1, 3, 3))\n",
    "        self.ncfile.createVariable('potential', 'f8', dimensions=('iterations',), chunksizes=(1,))\n",
    "        self.ncfile.createVariable('sample_positions_time', 'f4', dimensions=('iterations',), chunksizes=(1,))\n",
    "    \n",
    "    def update(self, integrator_idx=0):\n",
    "        \"\"\"\n",
    "        Update the sampler with one step of sampling.\n",
    "        \"\"\"\n",
    "        if self.verbose:\n",
    "            print(\".\" * 80)\n",
    "            print(\"MCMC sampler iteration %d\" % self.iteration)\n",
    "            \n",
    "        initial_time = time.time()\n",
    "        \n",
    "        # Take some steps\n",
    "        self.context = self.move.apply(self.thermodynamic_state, self.sampler_state, integrator_idx)\n",
    "        \n",
    "        # Get new sampler state.\n",
    "        self.sampler_state.update_from_context(self.context)\n",
    "        \n",
    "\n",
    "        final_time = time.time()\n",
    "        elapsed_time = final_time - initial_time\n",
    "        self._timing['sample positions'] = elapsed_time \n",
    "        \n",
    "        if self.verbose:\n",
    "            final_energy = self.context.getState(getEnergy=True).getPotentialEnergy() * self.thermodynamic_state.beta\n",
    "            print('Final energy is %12.3f kT' % (final_energy))\n",
    "            print('elapsed time %8.3f s' % elapsed_time)\n",
    "\n",
    "        if self.ncfile:\n",
    "            self.ncfile.variables['coordinates'][\n",
    "                self.iteration, :, :] = self.sampler_state.positions[:, :] / unit.nanometers\n",
    "            for k in range(3):\n",
    "                self.ncfile.variables['box_vectors'][self.iteration,\n",
    "                                                     k, :] = self.sampler_state.box_vectors[k, :] / unit.nanometers\n",
    "            self.ncfile.variables['potential'][self.iteration] = self.thermodynamic_state.beta * self.context.getState(\n",
    "                getEnergy=True).getPotentialEnergy()\n",
    "            self.ncfile.variables['sample_positions_time'][self.iteration] = elapsed_time\n",
    "\n",
    "        # Increment iteration count\n",
    "        self.iteration += 1\n",
    "\n",
    "        if self.verbose:\n",
    "            print(\".\" * 80)\n",
    "        if self.pdbfile is not None:\n",
    "            print(\"Writing frame...\")\n",
    "            from simtk.openmm.app import PDBFile\n",
    "            with open(self.pdbfile, 'w') as pdbfile:\n",
    "                PDBFile.writeFile(self.topology, self.sampler_state.positions, pdbfile, self.iteration)\n",
    "            #PDBFile.writeModel(self.topology, self.sampler_state.positions, self.pdbfile, self.iteration)\n",
    "                pdbfile.flush()\n",
    "\n",
    "    def run(self, n_iterations=1, integrator_idx=0):\n",
    "        \"\"\"\n",
    "        Run the sampler for the specified number of iterations\n",
    "        Parameters\n",
    "        ----------\n",
    "        niterations : int, optional, default=1\n",
    "            Number of iterations to run the sampler for.\n",
    "        \"\"\"\n",
    "        for iteration in range(n_iterations):\n",
    "            self.update(integrator_idx)\n",
    "                        \n",
    "    def minimize(self,\n",
    "                 tolerance=1.0 * unit.kilocalories_per_mole / unit.angstroms,\n",
    "                 max_iterations=100,\n",
    "                 context_cache=None):\n",
    "        \"\"\"Minimize the current configuration.\n",
    "\n",
    "        Parameters\n",
    "        ----------\n",
    "        tolerance : simtk.unit.Quantity, optional\n",
    "            Tolerance to use for minimization termination criterion (units of\n",
    "            energy/(mole*distance), default is 1*kilocalories_per_mole/angstroms).\n",
    "        max_iterations : int, optional\n",
    "            Maximum number of iterations to use for minimization. If 0, the minimization\n",
    "            will continue until convergence (default is 100).\n",
    "        context_cache : openmmtools.cache.ContextCache, optional\n",
    "            The ContextCache to use for Context creation. If None, the global cache\n",
    "            openmmtools.cache.global_context_cache is used (default is None).\n",
    "\n",
    "        \"\"\"\n",
    "        if context_cache is None:\n",
    "            context_cache = cache.global_context_cache\n",
    "\n",
    "        timer = Timer()\n",
    "\n",
    "        # Use LocalEnergyMinimizer\n",
    "        timer.start(\"Context request\")\n",
    "        integrator = openmm.VerletIntegrator(1.0 * unit.femtosecond)\n",
    "        context, integrator = context_cache.get_context(self.thermodynamic_state, integrator)\n",
    "        self.sampler_state.apply_to_context(context)\n",
    "        logger.debug(\"LocalEnergyMinimizer: platform is %s\" % context.getPlatform().getName())\n",
    "        logger.debug(\"Minimizing with tolerance %s and %d max. iterations.\" % (tolerance, max_iterations))\n",
    "        timer.stop(\"Context request\")\n",
    "\n",
    "        timer.start(\"LocalEnergyMinimizer minimize\")\n",
    "        openmm.LocalEnergyMinimizer.minimize(context, tolerance, max_iterations)\n",
    "        timer.stop(\"LocalEnergyMinimizer minimize\")\n",
    "        context_state = context.getState(\n",
    "            getPositions=True,\n",
    "            getVelocities=True,\n",
    "            getEnergy=True,\n",
    "            enforcePeriodicBox=self.thermodynamic_state.is_periodic)\n",
    "\n",
    "        potential_energy = context_state.getPotentialEnergy()\n",
    "        print(potential_energy)\n",
    "        # Retrieve data.\n",
    "        self.sampler_state.update_from_context(context)\n",
    "\n",
    "        #timer.report_timing()"
   ]
  },
  {
   "cell_type": "code",
   "execution_count": 27,
   "metadata": {},
   "outputs": [
    {
     "name": "stdout",
     "output_type": "stream",
     "text": [
      "2018-10-31 09:50:58,400 | DEBUG : LocalEnergyMinimizer: platform is OpenCL\n",
      "2018-10-31 09:50:58,401 | DEBUG : Minimizing with tolerance 1.0 kcal/(A mol) and 0 max. iterations.\n",
      "-116.744384765625 kJ/mol\n",
      "................................................................................\n",
      "MCMC sampler iteration 0\n",
      "2018-10-31 09:50:58,681 | DEBUG : NCMCMove: Context obtained, platform is OpenCL\n",
      "Step: 1.0 Work: 0.0 Lambda:  0.1 Lambda Step:  2.0 Sterics: 0.2 Elec: -0.0\n",
      "Step: 2.0 Work: 0.0 Lambda:  0.2 Lambda Step:  4.0 Sterics: 0.4 Elec: -0.0\n",
      "Step: 3.0 Work: 0.0 Lambda:  0.3 Lambda Step:  6.0 Sterics: 0.6 Elec: -0.0\n",
      "Step: 4.0 Work: 0.0 Lambda:  0.4 Lambda Step:  8.0 Sterics: 0.8 Elec: -0.0\n",
      "Step: 5.0 Work: 0.0 Lambda:  0.5 Lambda Step:  10.0 Sterics: 1.0 Elec: 0.0\n",
      "Step: 6.0 Work: 0.0 Lambda:  0.6 Lambda Step:  12.0 Sterics: 1.0 Elec: 0.19999999999999996\n",
      "Step: 7.0 Work: 0.0 Lambda:  0.7 Lambda Step:  14.0 Sterics: 1.0 Elec: 0.3999999999999999\n",
      "Step: 8.0 Work: 0.0 Lambda:  0.8 Lambda Step:  16.0 Sterics: 1.0 Elec: 0.6000000000000001\n",
      "Step: 9.0 Work: 0.0 Lambda:  0.9 Lambda Step:  18.0 Sterics: 1.0 Elec: 0.8\n",
      "Step: 10.0 Work: 0.0 Lambda:  1.0 Lambda Step:  20.0 Sterics: 1.0 Elec: 1.0\n",
      "potential_energy -111.2135009765625 kJ/mol\n",
      "Final energy is      -44.586 kT\n",
      "elapsed time    0.048 s\n",
      "................................................................................\n",
      "Writing frame...\n",
      "................................................................................\n",
      "MCMC sampler iteration 1\n",
      "2018-10-31 09:50:58,737 | DEBUG : NCMCMove: Context obtained, platform is OpenCL\n",
      "Step: 1.0 Work: 0.0 Lambda:  0.1 Lambda Step:  2.0 Sterics: 0.2 Elec: -0.0\n",
      "Step: 2.0 Work: 0.0 Lambda:  0.2 Lambda Step:  4.0 Sterics: 0.4 Elec: -0.0\n",
      "Step: 3.0 Work: 0.0 Lambda:  0.3 Lambda Step:  6.0 Sterics: 0.6 Elec: -0.0\n",
      "Step: 4.0 Work: 0.0 Lambda:  0.4 Lambda Step:  8.0 Sterics: 0.8 Elec: -0.0\n",
      "Step: 5.0 Work: 0.0 Lambda:  0.5 Lambda Step:  10.0 Sterics: 1.0 Elec: 0.0\n",
      "Step: 6.0 Work: 0.0 Lambda:  0.6 Lambda Step:  12.0 Sterics: 1.0 Elec: 0.19999999999999996\n",
      "Step: 7.0 Work: 0.0 Lambda:  0.7 Lambda Step:  14.0 Sterics: 1.0 Elec: 0.3999999999999999\n",
      "Step: 8.0 Work: 0.0 Lambda:  0.8 Lambda Step:  16.0 Sterics: 1.0 Elec: 0.6000000000000001\n",
      "Step: 9.0 Work: 0.0 Lambda:  0.9 Lambda Step:  18.0 Sterics: 1.0 Elec: 0.8\n",
      "Step: 10.0 Work: 0.0 Lambda:  1.0 Lambda Step:  20.0 Sterics: 1.0 Elec: 1.0\n",
      "potential_energy -104.31838989257812 kJ/mol\n",
      "Final energy is      -41.822 kT\n",
      "elapsed time    0.042 s\n",
      "................................................................................\n",
      "Writing frame...\n"
     ]
    }
   ],
   "source": [
    "ncmc_move = NCMCMove(timestep=1.0 * unit.femtosecond, n_steps=10)\n",
    "sampler = NCMCSampler(compound_state, sampler_state, move=ncmc_move, platform=None, pdbfile='test.pdb', ncfile='test.nc', topology=ala.topology)\n",
    "sampler.minimize(max_iterations=0)\n",
    "sampler.run(n_iterations=1, integrator_idx=0)\n",
    "np.allclose(sampler.sampler_state.positions, ala.positions)\n",
    "\n",
    "# In[44]:\n",
    "\n",
    "sampler.run(n_iterations=1, integrator_idx=0)"
   ]
  },
  {
   "cell_type": "code",
   "execution_count": null,
   "metadata": {},
   "outputs": [],
   "source": []
  }
 ],
 "metadata": {
  "kernelspec": {
   "display_name": "Python [conda env:openmmtools]",
   "language": "python",
   "name": "conda-env-openmmtools-py"
  },
  "language_info": {
   "codemirror_mode": {
    "name": "ipython",
    "version": 3
   },
   "file_extension": ".py",
   "mimetype": "text/x-python",
   "name": "python",
   "nbconvert_exporter": "python",
   "pygments_lexer": "ipython3",
   "version": "3.5.5"
  }
 },
 "nbformat": 4,
 "nbformat_minor": 2
}
