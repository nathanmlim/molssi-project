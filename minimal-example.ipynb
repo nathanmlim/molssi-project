{
 "cells": [
  {
   "cell_type": "code",
   "execution_count": 1,
   "metadata": {},
   "outputs": [],
   "source": [
    "from simtk import unit\n",
    "from openmmtools import testsystems, cache\n",
    "from openmmtools.mcmc import GHMCMove, MCMCSampler, MCRotationMove, BaseIntegratorMove, IntegratorMoveError\n",
    "from openmmtools.states import ThermodynamicState, SamplerState, CompoundThermodynamicState\n",
    "from simtk.openmm import CompoundIntegrator\n",
    "from openmmtools import alchemy\n",
    "from simtk import unit\n",
    "from openmmtools.utils import RestorableOpenMMObject\n",
    "from openmmtools.integrators import *\n",
    "import numpy as np\n",
    "import copy, sys\n",
    "import logging\n",
    "from simtk import openmm\n",
    "import parmed\n",
    "from openmmtools.utils import SubhookedABCMeta, Timer, RestorableOpenMMObject\n",
    "from openmmtools import testsystems, alchemy\n",
    "logger = logging.getLogger(__name__)\n",
    "logger.setLevel(logging.DEBUG)\n",
    "np.random.RandomState(seed=3134)\n",
    "logging.basicConfig(format='%(asctime)s | %(levelname)s : %(message)s', level=logging.INFO, stream=sys.stdout)"
   ]
  },
  {
   "cell_type": "code",
   "execution_count": 2,
   "metadata": {},
   "outputs": [],
   "source": [
    "# Define parameters\n",
    "temperature = 300 * unit.kelvin\n",
    "collision_rate = 1 / unit.picoseconds\n",
    "timestep = 1.0 * unit.femtoseconds\n",
    "n_steps = 10"
   ]
  },
  {
   "cell_type": "code",
   "execution_count": 3,
   "metadata": {},
   "outputs": [],
   "source": [
    "# import testsystem\n",
    "from openmmtools import testsystems\n",
    "ala = testsystems.AlanineDipeptideVacuum()"
   ]
  },
  {
   "cell_type": "code",
   "execution_count": 4,
   "metadata": {},
   "outputs": [],
   "source": [
    "# create our alchemical state\n",
    "factory = alchemy.AbsoluteAlchemicalFactory(consistent_exceptions=False)\n",
    "alchemical_region = alchemy.AlchemicalRegion(alchemical_atoms=range(22))\n",
    "alchemical_atoms = list(alchemical_region.alchemical_atoms)\n",
    "alanine_alchemical_system = factory.create_alchemical_system(\n",
    "    reference_system=ala.system, alchemical_regions=alchemical_region)\n",
    "alchemical_state = alchemy.AlchemicalState.from_system(alanine_alchemical_system)"
   ]
  },
  {
   "cell_type": "code",
   "execution_count": 5,
   "metadata": {
    "scrolled": false
   },
   "outputs": [
    {
     "name": "stdout",
     "output_type": "stream",
     "text": [
      "1.0\n",
      "1.0\n"
     ]
    }
   ],
   "source": [
    "# Enslave lambda_sterics and lambda_electrostatics to a generic lambda variable.\n",
    "alchemical_state.set_alchemical_variable('lambda', 0)\n",
    "print(alchemical_state.lambda_electrostatics)\n",
    "print(alchemical_state.lambda_sterics)"
   ]
  },
  {
   "cell_type": "code",
   "execution_count": 7,
   "metadata": {
    "scrolled": true
   },
   "outputs": [],
   "source": [
    "# Define our alchemical function and appy to state\n",
    "# The functions here turn off first electrostatic and the steric interactions\n",
    "# in sequence as lambda goes from 1.0 to 0.0.\n",
    "f_electrostatics = '2*(lambda-0.5)*step(lambda-0.5)'\n",
    "f_sterics = '2*lambda*step_hm(0.5-lambda) + step_hm(lambda-0.5)'\n",
    "alchemical_state.lambda_electrostatics = alchemy.AlchemicalFunction(f_electrostatics)\n",
    "alchemical_state.lambda_sterics = alchemy.AlchemicalFunction(f_sterics)"
   ]
  },
  {
   "cell_type": "code",
   "execution_count": 8,
   "metadata": {
    "scrolled": true
   },
   "outputs": [
    {
     "name": "stdout",
     "output_type": "stream",
     "text": [
      "0.5\n",
      "1.0\n"
     ]
    }
   ],
   "source": [
    "# Check that we can modify the lambda varible on the state\n",
    "alchemical_state.set_alchemical_variable('lambda', 0.75)\n",
    "#print(dir(alchemical_state))\n",
    "print(alchemical_state.lambda_electrostatics)\n",
    "print(alchemical_state.lambda_sterics)"
   ]
  },
  {
   "cell_type": "code",
   "execution_count": 9,
   "metadata": {},
   "outputs": [
    {
     "name": "stdout",
     "output_type": "stream",
     "text": [
      "1.0\n",
      "1.0\n"
     ]
    }
   ],
   "source": [
    "alchemical_state.set_alchemical_variable('lambda', 1.0)\n",
    "print(alchemical_state.lambda_electrostatics)\n",
    "print(alchemical_state.lambda_sterics)"
   ]
  },
  {
   "cell_type": "code",
   "execution_count": 10,
   "metadata": {},
   "outputs": [],
   "source": [
    "# Create our custom State objects\n",
    "thermo_state = ThermodynamicState(system=alanine_alchemical_system, temperature=300 * unit.kelvin)\n",
    "compound_state = CompoundThermodynamicState(thermo_state, composable_states=[alchemical_state])\n",
    "\n",
    "sampler_state = SamplerState(positions=ala.positions)"
   ]
  },
  {
   "cell_type": "code",
   "execution_count": 16,
   "metadata": {},
   "outputs": [
    {
     "name": "stdout",
     "output_type": "stream",
     "text": [
      "0.0\n",
      "1.0\n",
      "1.0\n",
      "1.0\n"
     ]
    }
   ],
   "source": [
    "compound_state.set_alchemical_variable('lambda', 0.5)\n",
    "print(compound_state.lambda_electrostatics)\n",
    "print(compound_state.lambda_sterics)\n",
    "\n",
    "print(alchemical_state.lambda_electrostatics)\n",
    "print(alchemical_state.lambda_sterics)"
   ]
  },
  {
   "cell_type": "code",
   "execution_count": 11,
   "metadata": {},
   "outputs": [],
   "source": [
    "# Set Integrator\n",
    "ncmc_integrator = AlchemicalNonequilibriumLangevinIntegrator(\n",
    "    splitting='H R V O V R H',\n",
    "    #splitting='O { V R H R V } O',\n",
    "    temperature=temperature,\n",
    "    collision_rate=collision_rate,\n",
    "    timestep=timestep,\n",
    "    nsteps_neq=n_steps,\n",
    "    measure_heat=True)\n",
    "integrator = LangevinIntegrator(\n",
    "    temperature=temperature, timestep=timestep, collision_rate=collision_rate, measure_heat=True)\n",
    "\n",
    "compound_integrator = CompoundIntegrator()\n",
    "compound_integrator.addIntegrator(ncmc_integrator)\n",
    "compound_integrator.addIntegrator(integrator)\n",
    "compound_integrator.setCurrentIntegrator(0)"
   ]
  },
  {
   "cell_type": "code",
   "execution_count": 12,
   "metadata": {},
   "outputs": [],
   "source": [
    "# Grab the context and set state\n",
    "context_cache = cache.global_context_cache\n",
    "context, compound_integrator = context_cache.get_context(compound_state, compound_integrator)\n",
    "\n",
    "# If we reassign velocities, we can ignore the ones in sampler_state.\n",
    "sampler_state.apply_to_context(context)\n",
    "context.setVelocitiesToTemperature(compound_state.temperature)"
   ]
  },
  {
   "cell_type": "code",
   "execution_count": 17,
   "metadata": {},
   "outputs": [
    {
     "name": "stdout",
     "output_type": "stream",
     "text": [
      "Step: 1.0 Work: 0.0 Lambda:  0.1 Lambda Step:  2.0 Sterics: 0.2 Elec: -0.0\n",
      "Step: 2.0 Work: 0.0 Lambda:  0.2 Lambda Step:  4.0 Sterics: 0.4 Elec: -0.0\n",
      "Step: 3.0 Work: 0.0 Lambda:  0.3 Lambda Step:  6.0 Sterics: 0.6 Elec: -0.0\n",
      "Step: 4.0 Work: 0.0 Lambda:  0.4 Lambda Step:  8.0 Sterics: 0.8 Elec: -0.0\n",
      "Step: 5.0 Work: 0.0 Lambda:  0.5 Lambda Step:  10.0 Sterics: 1.0 Elec: 0.0\n"
     ]
    }
   ],
   "source": [
    "# Do some steps \n",
    "rot_step = int(n_steps/2)\n",
    "for n in range(n_steps):\n",
    "    compound_integrator.step(1)\n",
    "    try:\n",
    "        curr_integrator = compound_integrator.getIntegrator(compound_integrator.getCurrentIntegrator())\n",
    "        step = curr_integrator.getGlobalVariableByName('step')\n",
    "        alch_lambda = curr_integrator.getGlobalVariableByName('lambda')\n",
    "        compound_state.set_alchemical_variable('lambda', alch_lambda)\n",
    "\n",
    "        lambda_step = curr_integrator.getGlobalVariableByName('lambda_step')\n",
    "        protocol_work = curr_integrator.getGlobalVariableByName('protocol_work')\n",
    "        \n",
    "        print('Step:', step, 'Work:', protocol_work, 'Lambda: ', alch_lambda, 'Lambda Step: ', lambda_step, 'Sterics:', compound_state.lambda_sterics, 'Elec:', compound_state.lambda_electrostatics)\n",
    "        if n == rot_step-1:\n",
    "            break\n",
    "    except Exception as e:\n",
    "        print(e)\n",
    "\n",
    "#print(dir(compound_state))\n"
   ]
  },
  {
   "cell_type": "code",
   "execution_count": 15,
   "metadata": {},
   "outputs": [],
   "source": [
    "# APPLY SOME PERTURBATION HERE"
   ]
  },
  {
   "cell_type": "code",
   "execution_count": 18,
   "metadata": {},
   "outputs": [
    {
     "name": "stdout",
     "output_type": "stream",
     "text": [
      "Step: 6.0 Work: 0.0 Lambda:  0.6 Lambda Step:  12.0 Sterics: 1.0 Elec: 0.19999999999999996\n",
      "Step: 7.0 Work: 0.0 Lambda:  0.7 Lambda Step:  14.0 Sterics: 1.0 Elec: 0.3999999999999999\n",
      "Step: 8.0 Work: 0.0 Lambda:  0.8 Lambda Step:  16.0 Sterics: 1.0 Elec: 0.6000000000000001\n",
      "Step: 9.0 Work: 0.0 Lambda:  0.9 Lambda Step:  18.0 Sterics: 1.0 Elec: 0.8\n",
      "Step: 10.0 Work: 0.0 Lambda:  1.0 Lambda Step:  20.0 Sterics: 1.0 Elec: 1.0\n"
     ]
    }
   ],
   "source": [
    "# Run our integrator to the end\n",
    "rot_step = int(n_steps/2)\n",
    "for n in range(n_steps):\n",
    "    compound_integrator.step(1)\n",
    "    try:\n",
    "        curr_integrator = compound_integrator.getIntegrator(compound_integrator.getCurrentIntegrator())\n",
    "        alch_lambda = curr_integrator.getGlobalVariableByName('lambda')\n",
    "        compound_state.set_alchemical_variable('lambda', alch_lambda)\n",
    "        step = curr_integrator.getGlobalVariableByName('step')\n",
    "        lambda_step = curr_integrator.getGlobalVariableByName('lambda_step')\n",
    "        protocol_work = curr_integrator.getGlobalVariableByName('protocol_work')\n",
    "        print('Step:', step, 'Work:', protocol_work, 'Lambda: ', alch_lambda, 'Lambda Step: ', lambda_step, 'Sterics:', compound_state.lambda_sterics, 'Elec:', compound_state.lambda_electrostatics)\n",
    "        if n == rot_step-1:\n",
    "            break\n",
    "    except Exception as e:\n",
    "        print(e)"
   ]
  },
  {
   "cell_type": "code",
   "execution_count": 19,
   "metadata": {},
   "outputs": [],
   "source": [
    "# Reset the variables\n",
    "curr_integrator.setGlobalVariableByName('step', 0)\n",
    "curr_integrator.setGlobalVariableByName('lambda_step', 0)\n",
    "curr_integrator.setGlobalVariableByName('protocol_work', 0)"
   ]
  },
  {
   "cell_type": "code",
   "execution_count": 20,
   "metadata": {},
   "outputs": [],
   "source": [
    "# We get also velocities here even if we don't need them because we\n",
    "# will recycle this State to update the sampler state object. This\n",
    "# way we won't need a second call to Context.getState().\n",
    "context_state = context.getState(\n",
    "    getPositions=True, getVelocities=True, getEnergy=True, enforcePeriodicBox=compound_state.is_periodic)\n",
    "\n",
    "# This is an optimization around the fact that Collective Variables are not a part of the State,\n",
    "# but are a part of the Context. We do this call twice to minimize duplicating information fetched from\n",
    "# the State.\n",
    "# Update everything but the collective variables from the State object\n",
    "sampler_state.update_from_context(context_state, ignore_collective_variables=True)\n",
    "# Update only the collective variables from the Context\n",
    "sampler_state.update_from_context(\n",
    "    context, ignore_positions=True, ignore_velocities=True, ignore_collective_variables=False)"
   ]
  },
  {
   "cell_type": "code",
   "execution_count": 21,
   "metadata": {},
   "outputs": [],
   "source": [
    "context, compound_integrator1 = context_cache.get_context(compound_state)\n",
    "sampler_state.apply_to_context(context)\n",
    "context.setVelocitiesToTemperature(compound_state.temperature)"
   ]
  },
  {
   "cell_type": "code",
   "execution_count": 22,
   "metadata": {},
   "outputs": [],
   "source": [
    "# We get also velocities here even if we don't need them because we\n",
    "# will recycle this State to update the sampler state object. This\n",
    "# way we won't need a second call to Context.getState().\n",
    "context_state = context.getState(\n",
    "    getPositions=True, getVelocities=True, getEnergy=True, enforcePeriodicBox=compound_state.is_periodic)\n",
    "\n",
    "# This is an optimization around the fact that Collective Variables are not a part of the State,\n",
    "# but are a part of the Context. We do this call twice to minimize duplicating information fetched from\n",
    "# the State.\n",
    "# Update everything but the collective variables from the State object\n",
    "sampler_state.update_from_context(context_state, ignore_collective_variables=True)\n",
    "# Update only the collective variables from the Context\n",
    "sampler_state.update_from_context(\n",
    "    context, ignore_positions=True, ignore_velocities=True, ignore_collective_variables=False)"
   ]
  },
  {
   "cell_type": "code",
   "execution_count": 23,
   "metadata": {},
   "outputs": [
    {
     "name": "stdout",
     "output_type": "stream",
     "text": [
      "Step: 1.0 Work: 0.0 Lambda:  0.1 Lambda Step:  2.0 Sterics: 0.2 Elec: -0.0\n",
      "Step: 2.0 Work: 0.0 Lambda:  0.2 Lambda Step:  4.0 Sterics: 0.4 Elec: -0.0\n",
      "Step: 3.0 Work: 0.0 Lambda:  0.3 Lambda Step:  6.0 Sterics: 0.6 Elec: -0.0\n",
      "Step: 4.0 Work: 0.0 Lambda:  0.4 Lambda Step:  8.0 Sterics: 0.8 Elec: -0.0\n",
      "Step: 5.0 Work: 0.0 Lambda:  0.5 Lambda Step:  10.0 Sterics: 1.0 Elec: 0.0\n"
     ]
    }
   ],
   "source": [
    "# Run our integrator to the end\n",
    "rot_step = int(n_steps/2)\n",
    "for n in range(n_steps):\n",
    "    compound_integrator.step(1)\n",
    "    try:\n",
    "        curr_integrator = compound_integrator.getIntegrator(compound_integrator.getCurrentIntegrator())\n",
    "        alch_lambda = curr_integrator.getGlobalVariableByName('lambda')\n",
    "        compound_state.set_alchemical_variable('lambda', alch_lambda)\n",
    "\n",
    "        step = curr_integrator.getGlobalVariableByName('step')\n",
    "        lambda_step = curr_integrator.getGlobalVariableByName('lambda_step')\n",
    "        protocol_work = curr_integrator.getGlobalVariableByName('protocol_work')\n",
    "        print('Step:', step, 'Work:', protocol_work, 'Lambda: ', alch_lambda, 'Lambda Step: ', lambda_step, 'Sterics:', compound_state.lambda_sterics, 'Elec:', compound_state.lambda_electrostatics)\n",
    "        if n == rot_step-1:\n",
    "            break\n",
    "    except Exception as e:\n",
    "        print(e)"
   ]
  },
  {
   "cell_type": "code",
   "execution_count": 24,
   "metadata": {},
   "outputs": [
    {
     "name": "stdout",
     "output_type": "stream",
     "text": [
      "Step: 6.0 Work: 0.0 Lambda:  0.6 Lambda Step:  12.0 Sterics: 1.0 Elec: 0.19999999999999996\n",
      "Step: 7.0 Work: 0.0 Lambda:  0.7 Lambda Step:  14.0 Sterics: 1.0 Elec: 0.3999999999999999\n",
      "Step: 8.0 Work: 0.0 Lambda:  0.8 Lambda Step:  16.0 Sterics: 1.0 Elec: 0.6000000000000001\n",
      "Step: 9.0 Work: 0.0 Lambda:  0.9 Lambda Step:  18.0 Sterics: 1.0 Elec: 0.8\n",
      "Step: 10.0 Work: 0.0 Lambda:  1.0 Lambda Step:  20.0 Sterics: 1.0 Elec: 1.0\n"
     ]
    }
   ],
   "source": [
    "# Run our integrator to the end\n",
    "rot_step = int(n_steps/2)\n",
    "for n in range(n_steps):\n",
    "    compound_integrator.step(1)\n",
    "    try:\n",
    "        curr_integrator = compound_integrator.getIntegrator(compound_integrator.getCurrentIntegrator())\n",
    "        alch_lambda = curr_integrator.getGlobalVariableByName('lambda')\n",
    "        compound_state.set_alchemical_variable('lambda', alch_lambda)\n",
    "\n",
    "        step = curr_integrator.getGlobalVariableByName('step')\n",
    "        lambda_step = curr_integrator.getGlobalVariableByName('lambda_step')\n",
    "        protocol_work = curr_integrator.getGlobalVariableByName('protocol_work')\n",
    "        print('Step:', step, 'Work:', protocol_work, 'Lambda: ', alch_lambda, 'Lambda Step: ', lambda_step, 'Sterics:', compound_state.lambda_sterics, 'Elec:', compound_state.lambda_electrostatics)\n",
    "        if n == rot_step-1:\n",
    "            break\n",
    "    except Exception as e:\n",
    "        print(e)"
   ]
  },
  {
   "cell_type": "code",
   "execution_count": null,
   "metadata": {},
   "outputs": [],
   "source": []
  }
 ],
 "metadata": {
  "kernelspec": {
   "display_name": "Python [conda env:openmmtools]",
   "language": "python",
   "name": "conda-env-openmmtools-py"
  },
  "language_info": {
   "codemirror_mode": {
    "name": "ipython",
    "version": 3
   },
   "file_extension": ".py",
   "mimetype": "text/x-python",
   "name": "python",
   "nbconvert_exporter": "python",
   "pygments_lexer": "ipython3",
   "version": "3.5.5"
  }
 },
 "nbformat": 4,
 "nbformat_minor": 2
}
