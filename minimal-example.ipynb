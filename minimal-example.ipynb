{
 "cells": [
  {
   "cell_type": "code",
   "execution_count": 74,
   "metadata": {},
   "outputs": [],
   "source": [
    "from simtk import unit\n",
    "from openmmtools import testsystems, cache\n",
    "from openmmtools.mcmc import GHMCMove, MCMCSampler, MCRotationMove, BaseIntegratorMove, IntegratorMoveError\n",
    "from openmmtools.states import ThermodynamicState, SamplerState, CompoundThermodynamicState\n",
    "from simtk.openmm import CompoundIntegrator\n",
    "from openmmtools import alchemy\n",
    "from simtk import unit\n",
    "from openmmtools.utils import RestorableOpenMMObject\n",
    "from openmmtools.integrators import *\n",
    "import numpy as np\n",
    "import copy, sys\n",
    "import logging\n",
    "from simtk import openmm\n",
    "import parmed\n",
    "from openmmtools.utils import SubhookedABCMeta, Timer, RestorableOpenMMObject\n",
    "from openmmtools import testsystems, alchemy\n",
    "logger = logging.getLogger(__name__)\n",
    "logger.setLevel(logging.DEBUG)\n",
    "np.random.RandomState(seed=3134)\n",
    "logging.basicConfig(format='%(asctime)s | %(levelname)s : %(message)s', level=logging.INFO, stream=sys.stdout)"
   ]
  },
  {
   "cell_type": "code",
   "execution_count": 75,
   "metadata": {},
   "outputs": [],
   "source": [
    "temperature = 300 * unit.kelvin\n",
    "collision_rate = 1 / unit.picoseconds\n",
    "timestep = 1.0 * unit.femtoseconds\n",
    "n_steps = 10"
   ]
  },
  {
   "cell_type": "code",
   "execution_count": 76,
   "metadata": {},
   "outputs": [],
   "source": [
    "from openmmtools import testsystems\n",
    "ala = testsystems.AlanineDipeptideVacuum()"
   ]
  },
  {
   "cell_type": "code",
   "execution_count": 77,
   "metadata": {},
   "outputs": [],
   "source": [
    "factory = alchemy.AbsoluteAlchemicalFactory(consistent_exceptions=False)\n",
    "alchemical_region = alchemy.AlchemicalRegion(alchemical_atoms=range(22))\n",
    "alchemical_atoms = list(alchemical_region.alchemical_atoms)\n",
    "alanine_alchemical_system = factory.create_alchemical_system(\n",
    "    reference_system=ala.system, alchemical_regions=alchemical_region)\n",
    "alchemical_state = alchemy.AlchemicalState.from_system(alanine_alchemical_system)"
   ]
  },
  {
   "cell_type": "code",
   "execution_count": 87,
   "metadata": {
    "scrolled": false
   },
   "outputs": [
    {
     "name": "stdout",
     "output_type": "stream",
     "text": [
      "-0.0\n",
      "0.0\n"
     ]
    }
   ],
   "source": [
    "# Enslave lambda_sterics and lambda_electrostatics to a generic lambda variable.\n",
    "alchemical_state.set_alchemical_variable('lambda', 0)\n",
    "print(alchemical_state.lambda_electrostatics)\n",
    "print(alchemical_state.lambda_sterics)"
   ]
  },
  {
   "cell_type": "code",
   "execution_count": 88,
   "metadata": {
    "scrolled": true
   },
   "outputs": [],
   "source": [
    "# The functions here turn off first electrostatic and the steric interactions\n",
    "# in sequence as lambda goes from 1.0 to 0.0.\n",
    "f_electrostatics = '2*(lambda-0.5)*step(lambda-0.5)'\n",
    "f_sterics = '2*lambda*step_hm(0.5-lambda) + step_hm(lambda-0.5)'\n",
    "alchemical_state.lambda_electrostatics = alchemy.AlchemicalFunction(f_electrostatics)\n",
    "alchemical_state.lambda_sterics = alchemy.AlchemicalFunction(f_sterics)\n",
    "\n",
    "# alchemical_state.set_alchemical_variable('lambda', 0.75)\n",
    "# #print(dir(alchemical_state))\n",
    "# print(alchemical_state.lambda_electrostatics)\n",
    "# print(alchemical_state.lambda_sterics)"
   ]
  },
  {
   "cell_type": "code",
   "execution_count": 89,
   "metadata": {},
   "outputs": [],
   "source": [
    "thermo_state = ThermodynamicState(system=alanine_alchemical_system, temperature=300 * unit.kelvin)\n",
    "compound_state = CompoundThermodynamicState(thermo_state, composable_states=[alchemical_state])\n",
    "\n",
    "sampler_state = SamplerState(positions=ala.positions)\n",
    "\n",
    "ncmc_integrator = AlchemicalNonequilibriumLangevinIntegrator(\n",
    "    splitting='H R V O V R H',\n",
    "    #splitting='O { V R H R V } O',\n",
    "    temperature=temperature,\n",
    "    collision_rate=collision_rate,\n",
    "    timestep=timestep,\n",
    "    nsteps_neq=n_steps,\n",
    "    measure_heat=True)\n",
    "integrator = LangevinIntegrator(\n",
    "    temperature=temperature, timestep=timestep, collision_rate=collision_rate, measure_heat=True)\n",
    "\n",
    "compound_integrator = CompoundIntegrator()\n",
    "compound_integrator.addIntegrator(ncmc_integrator)\n",
    "compound_integrator.addIntegrator(integrator)\n",
    "compound_integrator.setCurrentIntegrator(0)"
   ]
  },
  {
   "cell_type": "code",
   "execution_count": 90,
   "metadata": {},
   "outputs": [],
   "source": [
    "context_cache = cache.global_context_cache\n",
    "context, compound_integrator = context_cache.get_context(compound_state, compound_integrator)\n",
    "\n",
    "# If we reassign velocities, we can ignore the ones in sampler_state.\n",
    "sampler_state.apply_to_context(context)\n",
    "context.setVelocitiesToTemperature(compound_state.temperature)"
   ]
  },
  {
   "cell_type": "code",
   "execution_count": 91,
   "metadata": {},
   "outputs": [
    {
     "name": "stdout",
     "output_type": "stream",
     "text": [
      "Step: 10.0 Lambda:  1.0\n",
      "Sterics: 0.0 Elec: -0.0\n",
      "Step: 10.0 Lambda:  1.0\n",
      "Sterics: 0.0 Elec: -0.0\n",
      "Step: 10.0 Lambda:  1.0\n",
      "Sterics: 0.0 Elec: -0.0\n",
      "Step: 10.0 Lambda:  1.0\n",
      "Sterics: 0.0 Elec: -0.0\n",
      "Step: 10.0 Lambda:  1.0\n",
      "Sterics: 0.0 Elec: -0.0\n"
     ]
    }
   ],
   "source": [
    "\n",
    "rot_step = int(n_steps/2)\n",
    "for n in range(rot_step):\n",
    "    compound_integrator.step(1)\n",
    "    try:\n",
    "        curr_integrator = compound_integrator.getIntegrator(compound_integrator.getCurrentIntegrator())\n",
    "        alch_lambda = curr_integrator.getGlobalVariableByName('lambda')\n",
    "        step = curr_integrator.getGlobalVariableByName('step')\n",
    "        print('Step:', step, 'Lambda: ', alch_lambda)\n",
    "        print('Sterics:', compound_state.lambda_sterics, 'Elec:', compound_state.lambda_electrostatics)\n",
    "    except:\n",
    "        pass\n",
    "\n",
    "#print(dir(compound_state))\n"
   ]
  },
  {
   "cell_type": "code",
   "execution_count": 97,
   "metadata": {},
   "outputs": [],
   "source": []
  },
  {
   "cell_type": "code",
   "execution_count": 104,
   "metadata": {},
   "outputs": [
    {
     "data": {
      "text/plain": [
       "0.0"
      ]
     },
     "execution_count": 104,
     "metadata": {},
     "output_type": "execute_result"
    }
   ],
   "source": []
  },
  {
   "cell_type": "code",
   "execution_count": 116,
   "metadata": {},
   "outputs": [],
   "source": [
    "context, compound_integrator1 = context_cache.get_context(compound_state)\n",
    "sampler_state.apply_to_context(context)\n",
    "context.setVelocitiesToTemperature(compound_state.temperature)"
   ]
  },
  {
   "cell_type": "code",
   "execution_count": 121,
   "metadata": {},
   "outputs": [
    {
     "data": {
      "text/plain": [
       "0.0"
      ]
     },
     "execution_count": 121,
     "metadata": {},
     "output_type": "execute_result"
    }
   ],
   "source": [
    "compound_state.set_alchemical_variable('lambda', 0.0)\n",
    "compound_state.lambda_sterics\n"
   ]
  },
  {
   "cell_type": "code",
   "execution_count": 122,
   "metadata": {},
   "outputs": [
    {
     "name": "stdout",
     "output_type": "stream",
     "text": [
      "Step: 10.0 Lambda:  1.0\n",
      "Sterics: 0.0 Elec: -0.0\n",
      "Step: 10.0 Lambda:  1.0\n",
      "Sterics: 0.0 Elec: -0.0\n",
      "Step: 10.0 Lambda:  1.0\n",
      "Sterics: 0.0 Elec: -0.0\n",
      "Step: 10.0 Lambda:  1.0\n",
      "Sterics: 0.0 Elec: -0.0\n",
      "Step: 10.0 Lambda:  1.0\n",
      "Sterics: 0.0 Elec: -0.0\n"
     ]
    }
   ],
   "source": [
    "rot_step = int(n_steps/2)\n",
    "for n in range(rot_step):\n",
    "    compound_integrator1.step(1)\n",
    "    try:\n",
    "        curr_integrator1 = compound_integrator1.getIntegrator(compound_integrator.getCurrentIntegrator())\n",
    "        alch_lambda = curr_integrator1.getGlobalVariableByName('lambda')\n",
    "        step = curr_integrator1.getGlobalVariableByName('step')\n",
    "        print('Step:', step, 'Lambda: ', alch_lambda)\n",
    "        print('Sterics:', compound_state.lambda_sterics, 'Elec:', compound_state.lambda_electrostatics)\n",
    "    except:\n",
    "        pass"
   ]
  },
  {
   "cell_type": "code",
   "execution_count": 109,
   "metadata": {},
   "outputs": [],
   "source": [
    "# We get also velocities here even if we don't need them because we\n",
    "# will recycle this State to update the sampler state object. This\n",
    "# way we won't need a second call to Context.getState().\n",
    "context_state = context.getState(\n",
    "    getPositions=True, getVelocities=True, getEnergy=True, enforcePeriodicBox=compound_state.is_periodic)\n",
    "\n",
    "# This is an optimization around the fact that Collective Variables are not a part of the State,\n",
    "# but are a part of the Context. We do this call twice to minimize duplicating information fetched from\n",
    "# the State.\n",
    "# Update everything but the collective variables from the State object\n",
    "sampler_state.update_from_context(context_state, ignore_collective_variables=True)\n",
    "# Update only the collective variables from the Context\n",
    "sampler_state.update_from_context(\n",
    "    context, ignore_positions=True, ignore_velocities=True, ignore_collective_variables=False)"
   ]
  },
  {
   "cell_type": "code",
   "execution_count": 27,
   "metadata": {},
   "outputs": [
    {
     "data": {
      "text/plain": [
       "['BlockEnd',\n",
       " 'ComputeGlobal',\n",
       " 'ComputePerDof',\n",
       " 'ComputeSum',\n",
       " 'ConstrainPositions',\n",
       " 'ConstrainVelocities',\n",
       " 'IfBlockStart',\n",
       " 'UpdateContextState',\n",
       " 'WhileBlockStart',\n",
       " '__class__',\n",
       " '__copy__',\n",
       " '__deepcopy__',\n",
       " '__del__',\n",
       " '__delattr__',\n",
       " '__dict__',\n",
       " '__dir__',\n",
       " '__doc__',\n",
       " '__eq__',\n",
       " '__format__',\n",
       " '__ge__',\n",
       " '__getattr__',\n",
       " '__getattribute__',\n",
       " '__getstate__',\n",
       " '__gt__',\n",
       " '__hash__',\n",
       " '__init__',\n",
       " '__le__',\n",
       " '__lt__',\n",
       " '__module__',\n",
       " '__ne__',\n",
       " '__new__',\n",
       " '__reduce__',\n",
       " '__reduce_ex__',\n",
       " '__repr__',\n",
       " '__setattr__',\n",
       " '__setstate__',\n",
       " '__sizeof__',\n",
       " '__str__',\n",
       " '__subclasshook__',\n",
       " '__swig_destroy__',\n",
       " '__swig_getmethods__',\n",
       " '__swig_setmethods__',\n",
       " '__weakref__',\n",
       " '_s',\n",
       " 'addComputeGlobal',\n",
       " 'addComputePerDof',\n",
       " 'addComputeSum',\n",
       " 'addConstrainPositions',\n",
       " 'addConstrainVelocities',\n",
       " 'addGlobalVariable',\n",
       " 'addPerDofVariable',\n",
       " 'addTabulatedFunction',\n",
       " 'addUpdateContextState',\n",
       " 'beginIfBlock',\n",
       " 'beginWhileBlock',\n",
       " 'endBlock',\n",
       " 'getComputationStep',\n",
       " 'getConstraintTolerance',\n",
       " 'getGlobalVariable',\n",
       " 'getGlobalVariableByName',\n",
       " 'getGlobalVariableName',\n",
       " 'getKineticEnergyExpression',\n",
       " 'getNumComputations',\n",
       " 'getNumGlobalVariables',\n",
       " 'getNumPerDofVariables',\n",
       " 'getNumTabulatedFunctions',\n",
       " 'getPerDofVariable',\n",
       " 'getPerDofVariableByName',\n",
       " 'getPerDofVariableName',\n",
       " 'getRandomNumberSeed',\n",
       " 'getStepSize',\n",
       " 'getTabulatedFunction',\n",
       " 'getTabulatedFunctionName',\n",
       " 'setConstraintTolerance',\n",
       " 'setGlobalVariable',\n",
       " 'setGlobalVariableByName',\n",
       " 'setKineticEnergyExpression',\n",
       " 'setPerDofVariable',\n",
       " 'setPerDofVariableByName',\n",
       " 'setRandomNumberSeed',\n",
       " 'setStepSize',\n",
       " 'step',\n",
       " 'this']"
      ]
     },
     "execution_count": 27,
     "metadata": {},
     "output_type": "execute_result"
    }
   ],
   "source": [
    "tmp_cmpd_integrator = context.getIntegrator()\n",
    "integrator = tmp_cmpd_integrator.getIntegrator(0)\n",
    "dir(integrator)"
   ]
  },
  {
   "cell_type": "code",
   "execution_count": null,
   "metadata": {},
   "outputs": [],
   "source": [
    "ncmc_global_variables = {\n",
    "            integrator.getGlobalVariableName(index): index for index in range(integrator.getNumGlobalVariables())\n",
    "        }\n",
    "print(ncmc_global_variables)\n",
    "for k,v in ncmc_global_variables.items():\n",
    "    print(k,v)"
   ]
  },
  {
   "cell_type": "code",
   "execution_count": 34,
   "metadata": {},
   "outputs": [],
   "source": []
  },
  {
   "cell_type": "code",
   "execution_count": 35,
   "metadata": {},
   "outputs": [
    {
     "name": "stdout",
     "output_type": "stream",
     "text": [
      "0.08\n",
      "-0.0\n"
     ]
    }
   ],
   "source": [
    "print(compound_state.lambda_sterics)\n",
    "print(compound_state.lambda_electrostatics)"
   ]
  },
  {
   "cell_type": "code",
   "execution_count": null,
   "metadata": {},
   "outputs": [],
   "source": []
  },
  {
   "cell_type": "code",
   "execution_count": null,
   "metadata": {},
   "outputs": [],
   "source": []
  },
  {
   "cell_type": "code",
   "execution_count": null,
   "metadata": {},
   "outputs": [],
   "source": []
  },
  {
   "cell_type": "code",
   "execution_count": null,
   "metadata": {},
   "outputs": [],
   "source": []
  },
  {
   "cell_type": "code",
   "execution_count": null,
   "metadata": {},
   "outputs": [],
   "source": []
  },
  {
   "cell_type": "code",
   "execution_count": null,
   "metadata": {},
   "outputs": [],
   "source": []
  }
 ],
 "metadata": {
  "kernelspec": {
   "display_name": "Python [conda env:openmmtools]",
   "language": "python",
   "name": "conda-env-openmmtools-py"
  },
  "language_info": {
   "codemirror_mode": {
    "name": "ipython",
    "version": 3
   },
   "file_extension": ".py",
   "mimetype": "text/x-python",
   "name": "python",
   "nbconvert_exporter": "python",
   "pygments_lexer": "ipython3",
   "version": "3.5.5"
  }
 },
 "nbformat": 4,
 "nbformat_minor": 2
}
