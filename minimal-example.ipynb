{
 "cells": [
  {
   "cell_type": "code",
   "execution_count": 1,
   "metadata": {},
   "outputs": [],
   "source": [
    "from simtk import unit\n",
    "from openmmtools import testsystems, cache\n",
    "from openmmtools.mcmc import GHMCMove, MCMCSampler, MCRotationMove, BaseIntegratorMove, IntegratorMoveError\n",
    "from openmmtools.states import ThermodynamicState, SamplerState, CompoundThermodynamicState\n",
    "from simtk.openmm import CompoundIntegrator\n",
    "from openmmtools import alchemy\n",
    "from simtk import unit\n",
    "from openmmtools.utils import RestorableOpenMMObject\n",
    "from openmmtools.integrators import *\n",
    "import numpy as np\n",
    "import copy, sys\n",
    "import logging\n",
    "from simtk import openmm\n",
    "import parmed\n",
    "from openmmtools.utils import SubhookedABCMeta, Timer, RestorableOpenMMObject\n",
    "from openmmtools import testsystems, alchemy\n",
    "logger = logging.getLogger(__name__)\n",
    "logger.setLevel(logging.DEBUG)\n",
    "np.random.RandomState(seed=3134)\n",
    "logging.basicConfig(format='%(asctime)s | %(levelname)s : %(message)s', level=logging.INFO, stream=sys.stdout)"
   ]
  },
  {
   "cell_type": "code",
   "execution_count": 2,
   "metadata": {},
   "outputs": [],
   "source": [
    "temperature = 300 * unit.kelvin\n",
    "collision_rate = 1 / unit.picoseconds\n",
    "timestep = 1.0 * unit.femtoseconds\n",
    "n_steps = 100"
   ]
  },
  {
   "cell_type": "code",
   "execution_count": 3,
   "metadata": {},
   "outputs": [],
   "source": [
    "from openmmtools import testsystems\n",
    "ala = testsystems.AlanineDipeptideVacuum()"
   ]
  },
  {
   "cell_type": "code",
   "execution_count": 4,
   "metadata": {},
   "outputs": [],
   "source": [
    "factory = alchemy.AbsoluteAlchemicalFactory(consistent_exceptions=False)\n",
    "alchemical_region = alchemy.AlchemicalRegion(alchemical_atoms=range(22))\n",
    "alchemical_atoms = list(alchemical_region.alchemical_atoms)\n",
    "alanine_alchemical_system = factory.create_alchemical_system(\n",
    "    reference_system=ala.system, alchemical_regions=alchemical_region)\n",
    "alchemical_state = alchemy.AlchemicalState.from_system(alanine_alchemical_system)"
   ]
  },
  {
   "cell_type": "code",
   "execution_count": 5,
   "metadata": {
    "scrolled": false
   },
   "outputs": [
    {
     "name": "stdout",
     "output_type": "stream",
     "text": [
      "1.0\n",
      "1.0\n"
     ]
    }
   ],
   "source": [
    "# Enslave lambda_sterics and lambda_electrostatics to a generic lambda variable.\n",
    "alchemical_state.set_alchemical_variable('lambda', 0)\n",
    "print(alchemical_state.lambda_electrostatics)\n",
    "print(alchemical_state.lambda_sterics)"
   ]
  },
  {
   "cell_type": "code",
   "execution_count": 6,
   "metadata": {
    "scrolled": true
   },
   "outputs": [
    {
     "name": "stdout",
     "output_type": "stream",
     "text": [
      "0.5\n",
      "1.0\n"
     ]
    }
   ],
   "source": [
    "# The functions here turn off first electrostatic and the steric interactions\n",
    "# in sequence as lambda goes from 1.0 to 0.0.\n",
    "f_electrostatics = '2*(lambda-0.5)*step(lambda-0.5)'\n",
    "f_sterics = '2*lambda*step_hm(0.5-lambda) + step_hm(lambda-0.5)'\n",
    "alchemical_state.lambda_electrostatics = alchemy.AlchemicalFunction(f_electrostatics)\n",
    "alchemical_state.lambda_sterics = alchemy.AlchemicalFunction(f_sterics)\n",
    "\n",
    "alchemical_state.set_alchemical_variable('lambda', 0.75)\n",
    "#print(dir(alchemical_state))\n",
    "print(alchemical_state.lambda_electrostatics)\n",
    "print(alchemical_state.lambda_sterics)"
   ]
  },
  {
   "cell_type": "code",
   "execution_count": 7,
   "metadata": {},
   "outputs": [],
   "source": [
    "alchemical_state.set_alchemical_variable('lambda', 0.0)"
   ]
  },
  {
   "cell_type": "code",
   "execution_count": 8,
   "metadata": {},
   "outputs": [],
   "source": [
    "thermo_state = ThermodynamicState(system=alanine_alchemical_system, temperature=300 * unit.kelvin)\n",
    "compound_state = CompoundThermodynamicState(thermo_state, composable_states=[alchemical_state])\n",
    "\n",
    "sampler_state = SamplerState(positions=ala.positions)\n",
    "\n",
    "ncmc_integrator = AlchemicalNonequilibriumLangevinIntegrator(\n",
    "    splitting='H R V O V R H',\n",
    "    #splitting='O { V R H R V } O',\n",
    "    temperature=temperature,\n",
    "    collision_rate=collision_rate,\n",
    "    timestep=timestep,\n",
    "    nsteps_neq=n_steps,\n",
    "    measure_heat=True)\n",
    "integrator = LangevinIntegrator(\n",
    "    temperature=temperature, timestep=timestep, collision_rate=collision_rate, measure_heat=True)\n",
    "\n",
    "compound_integrator = CompoundIntegrator()\n",
    "compound_integrator.addIntegrator(ncmc_integrator)\n",
    "compound_integrator.addIntegrator(integrator)\n",
    "compound_integrator.setCurrentIntegrator(0)"
   ]
  },
  {
   "cell_type": "code",
   "execution_count": 9,
   "metadata": {},
   "outputs": [
    {
     "name": "stdout",
     "output_type": "stream",
     "text": [
      "0.0\n",
      "-0.0\n"
     ]
    }
   ],
   "source": [
    "context_cache = cache.global_context_cache\n",
    "context, compound_integrator = context_cache.get_context(compound_state, compound_integrator)\n",
    "\n",
    "# If we reassign velocities, we can ignore the ones in sampler_state.\n",
    "sampler_state.apply_to_context(context)\n",
    "context.setVelocitiesToTemperature(compound_state.temperature)\n",
    "\n",
    "compound_integrator.step(2)\n",
    "\n",
    "#print(dir(compound_state))\n",
    "print(compound_state.lambda_sterics)\n",
    "print(compound_state.lambda_electrostatics)"
   ]
  },
  {
   "cell_type": "code",
   "execution_count": 10,
   "metadata": {},
   "outputs": [],
   "source": [
    "#dir(compound_state)"
   ]
  },
  {
   "cell_type": "code",
   "execution_count": 11,
   "metadata": {},
   "outputs": [],
   "source": [
    "# We get also velocities here even if we don't need them because we\n",
    "# will recycle this State to update the sampler state object. This\n",
    "# way we won't need a second call to Context.getState().\n",
    "context_state = context.getState(\n",
    "    getPositions=True, getVelocities=True, getEnergy=True, enforcePeriodicBox=compound_state.is_periodic)\n",
    "\n",
    "# This is an optimization around the fact that Collective Variables are not a part of the State,\n",
    "# but are a part of the Context. We do this call twice to minimize duplicating information fetched from\n",
    "# the State.\n",
    "# Update everything but the collective variables from the State object\n",
    "sampler_state.update_from_context(context_state, ignore_collective_variables=True)\n",
    "# Update only the collective variables from the Context\n",
    "sampler_state.update_from_context(\n",
    "    context, ignore_positions=True, ignore_velocities=True, ignore_collective_variables=False)"
   ]
  },
  {
   "cell_type": "code",
   "execution_count": 12,
   "metadata": {},
   "outputs": [
    {
     "data": {
      "text/plain": [
       "['BlockEnd',\n",
       " 'ComputeGlobal',\n",
       " 'ComputePerDof',\n",
       " 'ComputeSum',\n",
       " 'ConstrainPositions',\n",
       " 'ConstrainVelocities',\n",
       " 'IfBlockStart',\n",
       " 'UpdateContextState',\n",
       " 'WhileBlockStart',\n",
       " '__class__',\n",
       " '__copy__',\n",
       " '__deepcopy__',\n",
       " '__del__',\n",
       " '__delattr__',\n",
       " '__dict__',\n",
       " '__dir__',\n",
       " '__doc__',\n",
       " '__eq__',\n",
       " '__format__',\n",
       " '__ge__',\n",
       " '__getattr__',\n",
       " '__getattribute__',\n",
       " '__getstate__',\n",
       " '__gt__',\n",
       " '__hash__',\n",
       " '__init__',\n",
       " '__le__',\n",
       " '__lt__',\n",
       " '__module__',\n",
       " '__ne__',\n",
       " '__new__',\n",
       " '__reduce__',\n",
       " '__reduce_ex__',\n",
       " '__repr__',\n",
       " '__setattr__',\n",
       " '__setstate__',\n",
       " '__sizeof__',\n",
       " '__str__',\n",
       " '__subclasshook__',\n",
       " '__swig_destroy__',\n",
       " '__swig_getmethods__',\n",
       " '__swig_setmethods__',\n",
       " '__weakref__',\n",
       " '_s',\n",
       " 'addComputeGlobal',\n",
       " 'addComputePerDof',\n",
       " 'addComputeSum',\n",
       " 'addConstrainPositions',\n",
       " 'addConstrainVelocities',\n",
       " 'addGlobalVariable',\n",
       " 'addPerDofVariable',\n",
       " 'addTabulatedFunction',\n",
       " 'addUpdateContextState',\n",
       " 'beginIfBlock',\n",
       " 'beginWhileBlock',\n",
       " 'endBlock',\n",
       " 'getComputationStep',\n",
       " 'getConstraintTolerance',\n",
       " 'getGlobalVariable',\n",
       " 'getGlobalVariableByName',\n",
       " 'getGlobalVariableName',\n",
       " 'getKineticEnergyExpression',\n",
       " 'getNumComputations',\n",
       " 'getNumGlobalVariables',\n",
       " 'getNumPerDofVariables',\n",
       " 'getNumTabulatedFunctions',\n",
       " 'getPerDofVariable',\n",
       " 'getPerDofVariableByName',\n",
       " 'getPerDofVariableName',\n",
       " 'getRandomNumberSeed',\n",
       " 'getStepSize',\n",
       " 'getTabulatedFunction',\n",
       " 'getTabulatedFunctionName',\n",
       " 'setConstraintTolerance',\n",
       " 'setGlobalVariable',\n",
       " 'setGlobalVariableByName',\n",
       " 'setKineticEnergyExpression',\n",
       " 'setPerDofVariable',\n",
       " 'setPerDofVariableByName',\n",
       " 'setRandomNumberSeed',\n",
       " 'setStepSize',\n",
       " 'step',\n",
       " 'this']"
      ]
     },
     "execution_count": 12,
     "metadata": {},
     "output_type": "execute_result"
    }
   ],
   "source": [
    "tmp_cmpd_integrator = context.getIntegrator()\n",
    "integrator = tmp_cmpd_integrator.getIntegrator(0)\n",
    "dir(integrator)"
   ]
  },
  {
   "cell_type": "code",
   "execution_count": 13,
   "metadata": {},
   "outputs": [
    {
     "name": "stdout",
     "output_type": "stream",
     "text": [
      "{'step': 12, 'heat': 4, 'b': 3, '_restorable__class_hash': 0, 'nsteps': 11, 'Eold': 8, 'lambda': 10, 'Enew': 9, 'a': 2, 'n_lambda_steps': 13, 'has_kT_changed': 15, 'lambda_step': 14, 'old_ke': 5, 'kT': 1, 'protocol_work': 7, 'new_ke': 6}\n"
     ]
    }
   ],
   "source": [
    "ncmc_global_variables = {\n",
    "            integrator.getGlobalVariableName(index): index for index in range(integrator.getNumGlobalVariables())\n",
    "        }\n",
    "print(ncmc_global_variables)"
   ]
  },
  {
   "cell_type": "code",
   "execution_count": 14,
   "metadata": {},
   "outputs": [],
   "source": [
    "compound_state.set_alchemical_variable('lambda', ncmc_global_variables['lambda'])"
   ]
  },
  {
   "cell_type": "code",
   "execution_count": 15,
   "metadata": {},
   "outputs": [
    {
     "name": "stdout",
     "output_type": "stream",
     "text": [
      "1.0\n"
     ]
    },
    {
     "ename": "AssertionError",
     "evalue": "lambda_electrostatics: 19.0",
     "output_type": "error",
     "traceback": [
      "\u001b[0;31m---------------------------------------------------------------------------\u001b[0m",
      "\u001b[0;31mAssertionError\u001b[0m                            Traceback (most recent call last)",
      "\u001b[0;32m<ipython-input-15-6867fa2979a0>\u001b[0m in \u001b[0;36m<module>\u001b[0;34m\u001b[0m\n\u001b[1;32m      1\u001b[0m \u001b[0mprint\u001b[0m\u001b[0;34m(\u001b[0m\u001b[0mcompound_state\u001b[0m\u001b[0;34m.\u001b[0m\u001b[0mlambda_sterics\u001b[0m\u001b[0;34m)\u001b[0m\u001b[0;34m\u001b[0m\u001b[0m\n\u001b[0;32m----> 2\u001b[0;31m \u001b[0mprint\u001b[0m\u001b[0;34m(\u001b[0m\u001b[0mcompound_state\u001b[0m\u001b[0;34m.\u001b[0m\u001b[0mlambda_electrostatics\u001b[0m\u001b[0;34m)\u001b[0m\u001b[0;34m\u001b[0m\u001b[0m\n\u001b[0m",
      "\u001b[0;32m//anaconda/envs/openmmtools/lib/python3.5/site-packages/openmmtools/states.py\u001b[0m in \u001b[0;36m__getattr__\u001b[0;34m(self, name)\u001b[0m\n\u001b[1;32m   2672\u001b[0m         \u001b[0;32mfor\u001b[0m \u001b[0ms\u001b[0m \u001b[0;32min\u001b[0m \u001b[0mself\u001b[0m\u001b[0;34m.\u001b[0m\u001b[0m_composable_states\u001b[0m\u001b[0;34m:\u001b[0m\u001b[0;34m\u001b[0m\u001b[0m\n\u001b[1;32m   2673\u001b[0m             \u001b[0;32mtry\u001b[0m\u001b[0;34m:\u001b[0m\u001b[0;34m\u001b[0m\u001b[0m\n\u001b[0;32m-> 2674\u001b[0;31m                 \u001b[0mattr\u001b[0m \u001b[0;34m=\u001b[0m \u001b[0mgetattr\u001b[0m\u001b[0;34m(\u001b[0m\u001b[0ms\u001b[0m\u001b[0;34m,\u001b[0m \u001b[0mname\u001b[0m\u001b[0;34m)\u001b[0m\u001b[0;34m\u001b[0m\u001b[0m\n\u001b[0m\u001b[1;32m   2675\u001b[0m             \u001b[0;32mexcept\u001b[0m \u001b[0mAttributeError\u001b[0m\u001b[0;34m:\u001b[0m\u001b[0;34m\u001b[0m\u001b[0m\n\u001b[1;32m   2676\u001b[0m                 \u001b[0;32mpass\u001b[0m\u001b[0;34m\u001b[0m\u001b[0m\n",
      "\u001b[0;32m//anaconda/envs/openmmtools/lib/python3.5/site-packages/openmmtools/alchemy.py\u001b[0m in \u001b[0;36m__get__\u001b[0;34m(self, instance, owner_class)\u001b[0m\n\u001b[1;32m    290\u001b[0m                 \u001b[0mparameter_value\u001b[0m \u001b[0;34m=\u001b[0m \u001b[0mparameter_value\u001b[0m\u001b[0;34m(\u001b[0m\u001b[0minstance\u001b[0m\u001b[0;34m.\u001b[0m\u001b[0m_alchemical_variables\u001b[0m\u001b[0;34m)\u001b[0m\u001b[0;34m\u001b[0m\u001b[0m\n\u001b[1;32m    291\u001b[0m             assert parameter_value is None or 0.0 <= parameter_value <= 1.0, '{}: {}'.format(\n\u001b[0;32m--> 292\u001b[0;31m                 self._parameter_name, parameter_value)\n\u001b[0m\u001b[1;32m    293\u001b[0m             \u001b[0;32mreturn\u001b[0m \u001b[0mparameter_value\u001b[0m\u001b[0;34m\u001b[0m\u001b[0m\n\u001b[1;32m    294\u001b[0m \u001b[0;34m\u001b[0m\u001b[0m\n",
      "\u001b[0;31mAssertionError\u001b[0m: lambda_electrostatics: 19.0"
     ]
    }
   ],
   "source": [
    "print(compound_state.lambda_sterics)\n",
    "print(compound_state.lambda_electrostatics)"
   ]
  },
  {
   "cell_type": "code",
   "execution_count": null,
   "metadata": {},
   "outputs": [],
   "source": []
  }
 ],
 "metadata": {
  "kernelspec": {
   "display_name": "Python [conda env:openmmtools]",
   "language": "python",
   "name": "conda-env-openmmtools-py"
  },
  "language_info": {
   "codemirror_mode": {
    "name": "ipython",
    "version": 3
   },
   "file_extension": ".py",
   "mimetype": "text/x-python",
   "name": "python",
   "nbconvert_exporter": "python",
   "pygments_lexer": "ipython3",
   "version": "3.5.5"
  }
 },
 "nbformat": 4,
 "nbformat_minor": 2
}
