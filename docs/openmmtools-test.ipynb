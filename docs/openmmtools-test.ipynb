{
 "cells": [
  {
   "cell_type": "code",
   "execution_count": 1,
   "metadata": {},
   "outputs": [],
   "source": [
    "from simtk import unit\n",
    "from openmmtools import testsystems, cache\n",
    "from openmmtools.mcmc import GHMCMove, MCMCSampler\n",
    "from openmmtools.states import ThermodynamicState, SamplerState, CompoundThermodynamicState\n",
    "import numpy as np"
   ]
  },
  {
   "cell_type": "code",
   "execution_count": 12,
   "metadata": {},
   "outputs": [],
   "source": [
    "from openmmtools import testsystems, alchemy\n",
    "factory = alchemy.AbsoluteAlchemicalFactory(consistent_exceptions=False,\n",
    "            disable_alchemical_dispersion_correction=True,\n",
    "            alchemical_pme_treatment='direct-space')\n",
    "test = testsystems.AlanineDipeptideVacuum()\n",
    "alanine_vacuum = testsystems.AlanineDipeptideVacuum().system\n",
    "alchemical_region = alchemy.AlchemicalRegion(alchemical_atoms=range(22))\n",
    "alanine_alchemical_system = factory.create_alchemical_system(reference_system=alanine_vacuum,\n",
    "                                                           alchemical_regions=alchemical_region)\n",
    "alchemical_state = alchemy.AlchemicalState.from_system(alanine_alchemical_system)"
   ]
  },
  {
   "cell_type": "code",
   "execution_count": 13,
   "metadata": {},
   "outputs": [
    {
     "name": "stdout",
     "output_type": "stream",
     "text": [
      "1.0\n",
      "1.0\n"
     ]
    }
   ],
   "source": [
    "from simtk import openmm, unit\n",
    "thermodynamic_state = ThermodynamicState(system=alanine_alchemical_system, temperature=300*unit.kelvin)\n",
    "compound_state = CompoundThermodynamicState(thermodynamic_state=thermodynamic_state, composable_states=[alchemical_state])\n",
    "print(compound_state.lambda_sterics)\n",
    "print(compound_state.lambda_electrostatics)"
   ]
  },
  {
   "cell_type": "code",
   "execution_count": 15,
   "metadata": {},
   "outputs": [],
   "source": [
    "sampler_state = SamplerState(test.positions)"
   ]
  },
  {
   "cell_type": "code",
   "execution_count": 16,
   "metadata": {},
   "outputs": [],
   "source": [
    "ghmc_move = GHMCMove(timestep=1.0*unit.femtosecond, n_steps=50)"
   ]
  },
  {
   "cell_type": "code",
   "execution_count": null,
   "metadata": {},
   "outputs": [],
   "source": []
  },
  {
   "cell_type": "code",
   "execution_count": 17,
   "metadata": {},
   "outputs": [],
   "source": [
    "sampler = MCMCSampler(compound_state, sampler_state, move=ghmc_move)"
   ]
  },
  {
   "cell_type": "code",
   "execution_count": 18,
   "metadata": {},
   "outputs": [],
   "source": [
    "sampler.minimize()\n",
    "sampler.run(n_iterations=2)"
   ]
  },
  {
   "cell_type": "code",
   "execution_count": 32,
   "metadata": {},
   "outputs": [
    {
     "data": {
      "text/plain": [
       "False"
      ]
     },
     "execution_count": 32,
     "metadata": {},
     "output_type": "execute_result"
    }
   ],
   "source": [
    "np.allclose(sampler.sampler_state.positions, test.positions)"
   ]
  },
  {
   "cell_type": "code",
   "execution_count": null,
   "metadata": {},
   "outputs": [],
   "source": []
  }
 ],
 "metadata": {
  "kernelspec": {
   "display_name": "Python [conda env:molssi]",
   "language": "python",
   "name": "conda-env-molssi-py"
  },
  "language_info": {
   "codemirror_mode": {
    "name": "ipython",
    "version": 3
   },
   "file_extension": ".py",
   "mimetype": "text/x-python",
   "name": "python",
   "nbconvert_exporter": "python",
   "pygments_lexer": "ipython3",
   "version": "3.5.5"
  }
 },
 "nbformat": 4,
 "nbformat_minor": 2
}
